{
 "cells": [
  {
   "cell_type": "markdown",
   "id": "01735961-fadb-4d68-9a41-02c25e7ce5da",
   "metadata": {},
   "source": [
    "# Model: AdaBoost"
   ]
  },
  {
   "cell_type": "markdown",
   "id": "93fda144-6fbc-4d8b-aa0d-e9ee8a71a2af",
   "metadata": {},
   "source": [
    "## Load imports"
   ]
  },
  {
   "cell_type": "code",
   "execution_count": 14,
   "id": "eedaf6e5-2ffc-4e86-a018-395c34abf114",
   "metadata": {
    "tags": []
   },
   "outputs": [],
   "source": [
    "# !pip install scikit-optimize"
   ]
  },
  {
   "cell_type": "code",
   "execution_count": 69,
   "id": "46e63801-a9e2-4861-a232-a5f49634eaa7",
   "metadata": {},
   "outputs": [],
   "source": [
    "import pandas as pd\n",
    "import numpy as np\n",
    "import random\n",
    "import pickle\n",
    "import matplotlib.pyplot as plt\n",
    "\n",
    "# Preprocessing\n",
    "from sklearn.pipeline import Pipeline\n",
    "\n",
    "# Models\n",
    "from sklearn.preprocessing import StandardScaler\n",
    "from sklearn.naive_bayes import MultinomialNB\n",
    "from sklearn.ensemble import RandomForestClassifier\n",
    "\n",
    "# Scikit Optimize\n",
    "from skopt.space import Integer, Real, Categorical\n",
    "from skopt import BayesSearchCV\n",
    "from sklearn.metrics import confusion_matrix, plot_confusion_matrix, precision_score, recall_score, balanced_accuracy_score"
   ]
  },
  {
   "cell_type": "markdown",
   "id": "6527f168-5466-450f-b7fa-81a5c49f15da",
   "metadata": {},
   "source": [
    "## Get Data"
   ]
  },
  {
   "cell_type": "code",
   "execution_count": 16,
   "id": "b9cc62bf-6c46-4b68-8ce3-734c61fea20d",
   "metadata": {
    "tags": []
   },
   "outputs": [],
   "source": [
    "# read in the \n",
    "# need: X matrices and og datasets\n",
    "with open('../data/train_vec.pkl','rb') as p_in:\n",
    "    train = pickle.load(p_in)"
   ]
  },
  {
   "cell_type": "code",
   "execution_count": 17,
   "id": "210c94ea-6c11-4f9e-8f48-01fc398eb65a",
   "metadata": {},
   "outputs": [],
   "source": [
    "with open('../data/test_vec.pkl', 'rb') as pickle_in:\n",
    "    test = pickle.load(pickle_in)"
   ]
  },
  {
   "cell_type": "code",
   "execution_count": 21,
   "id": "b5aa59d7-fd29-4feb-9554-7be2298b6e58",
   "metadata": {},
   "outputs": [
    {
     "data": {
      "text/html": [
       "<div>\n",
       "<style scoped>\n",
       "    .dataframe tbody tr th:only-of-type {\n",
       "        vertical-align: middle;\n",
       "    }\n",
       "\n",
       "    .dataframe tbody tr th {\n",
       "        vertical-align: top;\n",
       "    }\n",
       "\n",
       "    .dataframe thead th {\n",
       "        text-align: right;\n",
       "    }\n",
       "</style>\n",
       "<table border=\"1\" class=\"dataframe\">\n",
       "  <thead>\n",
       "    <tr style=\"text-align: right;\">\n",
       "      <th></th>\n",
       "      <th>id</th>\n",
       "      <th>cuisine</th>\n",
       "      <th>char_count</th>\n",
       "      <th>ingredient_count</th>\n",
       "      <th>romaine lettuce</th>\n",
       "      <th>black olives</th>\n",
       "      <th>grape tomatoes</th>\n",
       "      <th>garlic</th>\n",
       "      <th>pepper</th>\n",
       "      <th>purple onion</th>\n",
       "      <th>...</th>\n",
       "      <th>Oscar Mayer Cotto Salami</th>\n",
       "      <th>Challenge Butter</th>\n",
       "      <th>orange glaze</th>\n",
       "      <th>cholesterol free egg substitute</th>\n",
       "      <th>ciabatta loaf</th>\n",
       "      <th>Lipton® Iced Tea Brew Family Size Tea Bags</th>\n",
       "      <th>Hidden Valley® Greek Yogurt Original Ranch® Dip Mix</th>\n",
       "      <th>lop chong</th>\n",
       "      <th>tomato garlic pasta sauce</th>\n",
       "      <th>crushed cheese crackers</th>\n",
       "    </tr>\n",
       "  </thead>\n",
       "  <tbody>\n",
       "    <tr>\n",
       "      <th>0</th>\n",
       "      <td>10259</td>\n",
       "      <td>0</td>\n",
       "      <td>144</td>\n",
       "      <td>9</td>\n",
       "      <td>0</td>\n",
       "      <td>0</td>\n",
       "      <td>0</td>\n",
       "      <td>1</td>\n",
       "      <td>1</td>\n",
       "      <td>0</td>\n",
       "      <td>...</td>\n",
       "      <td>0</td>\n",
       "      <td>0</td>\n",
       "      <td>0</td>\n",
       "      <td>0</td>\n",
       "      <td>0</td>\n",
       "      <td>0</td>\n",
       "      <td>0</td>\n",
       "      <td>0</td>\n",
       "      <td>0</td>\n",
       "      <td>0</td>\n",
       "    </tr>\n",
       "    <tr>\n",
       "      <th>1</th>\n",
       "      <td>25693</td>\n",
       "      <td>1</td>\n",
       "      <td>155</td>\n",
       "      <td>11</td>\n",
       "      <td>0</td>\n",
       "      <td>0</td>\n",
       "      <td>0</td>\n",
       "      <td>0</td>\n",
       "      <td>2</td>\n",
       "      <td>0</td>\n",
       "      <td>...</td>\n",
       "      <td>0</td>\n",
       "      <td>0</td>\n",
       "      <td>0</td>\n",
       "      <td>0</td>\n",
       "      <td>0</td>\n",
       "      <td>0</td>\n",
       "      <td>0</td>\n",
       "      <td>0</td>\n",
       "      <td>0</td>\n",
       "      <td>0</td>\n",
       "    </tr>\n",
       "    <tr>\n",
       "      <th>2</th>\n",
       "      <td>20130</td>\n",
       "      <td>2</td>\n",
       "      <td>172</td>\n",
       "      <td>12</td>\n",
       "      <td>0</td>\n",
       "      <td>0</td>\n",
       "      <td>0</td>\n",
       "      <td>1</td>\n",
       "      <td>1</td>\n",
       "      <td>0</td>\n",
       "      <td>...</td>\n",
       "      <td>0</td>\n",
       "      <td>0</td>\n",
       "      <td>0</td>\n",
       "      <td>0</td>\n",
       "      <td>0</td>\n",
       "      <td>0</td>\n",
       "      <td>0</td>\n",
       "      <td>0</td>\n",
       "      <td>0</td>\n",
       "      <td>0</td>\n",
       "    </tr>\n",
       "  </tbody>\n",
       "</table>\n",
       "<p>3 rows × 6851 columns</p>\n",
       "</div>"
      ],
      "text/plain": [
       "      id  cuisine  char_count  ingredient_count  romaine lettuce  \\\n",
       "0  10259        0         144                 9                0   \n",
       "1  25693        1         155                11                0   \n",
       "2  20130        2         172                12                0   \n",
       "\n",
       "   black olives  grape tomatoes  garlic  pepper  purple onion  ...  \\\n",
       "0             0               0       1       1             0  ...   \n",
       "1             0               0       0       2             0  ...   \n",
       "2             0               0       1       1             0  ...   \n",
       "\n",
       "   Oscar Mayer Cotto Salami  Challenge Butter  orange glaze  \\\n",
       "0                         0                 0             0   \n",
       "1                         0                 0             0   \n",
       "2                         0                 0             0   \n",
       "\n",
       "   cholesterol free egg substitute  ciabatta loaf  \\\n",
       "0                                0              0   \n",
       "1                                0              0   \n",
       "2                                0              0   \n",
       "\n",
       "   Lipton® Iced Tea Brew Family Size Tea Bags  \\\n",
       "0                                           0   \n",
       "1                                           0   \n",
       "2                                           0   \n",
       "\n",
       "   Hidden Valley® Greek Yogurt Original Ranch® Dip Mix  lop chong  \\\n",
       "0                                                  0            0   \n",
       "1                                                  0            0   \n",
       "2                                                  0            0   \n",
       "\n",
       "   tomato garlic pasta sauce  crushed cheese crackers  \n",
       "0                          0                        0  \n",
       "1                          0                        0  \n",
       "2                          0                        0  \n",
       "\n",
       "[3 rows x 6851 columns]"
      ]
     },
     "execution_count": 21,
     "metadata": {},
     "output_type": "execute_result"
    }
   ],
   "source": [
    "train.head(3)"
   ]
  },
  {
   "cell_type": "code",
   "execution_count": 22,
   "id": "63cce86a-274d-483b-bf90-e36a2ca61987",
   "metadata": {},
   "outputs": [
    {
     "data": {
      "text/html": [
       "<div>\n",
       "<style scoped>\n",
       "    .dataframe tbody tr th:only-of-type {\n",
       "        vertical-align: middle;\n",
       "    }\n",
       "\n",
       "    .dataframe tbody tr th {\n",
       "        vertical-align: top;\n",
       "    }\n",
       "\n",
       "    .dataframe thead th {\n",
       "        text-align: right;\n",
       "    }\n",
       "</style>\n",
       "<table border=\"1\" class=\"dataframe\">\n",
       "  <thead>\n",
       "    <tr style=\"text-align: right;\">\n",
       "      <th></th>\n",
       "      <th>id</th>\n",
       "      <th>char_count</th>\n",
       "      <th>ingredient_count</th>\n",
       "      <th>baking powder</th>\n",
       "      <th>eggs</th>\n",
       "      <th>all-purpose flour</th>\n",
       "      <th>raisins</th>\n",
       "      <th>milk</th>\n",
       "      <th>white sugar</th>\n",
       "      <th>sugar</th>\n",
       "      <th>...</th>\n",
       "      <th>fraise</th>\n",
       "      <th>beef heart</th>\n",
       "      <th>lambs liver</th>\n",
       "      <th>soft cheese</th>\n",
       "      <th>sliced mango</th>\n",
       "      <th>pork strips</th>\n",
       "      <th>shark fillets</th>\n",
       "      <th>hash brown</th>\n",
       "      <th>porter</th>\n",
       "      <th>butter crackers</th>\n",
       "    </tr>\n",
       "  </thead>\n",
       "  <tbody>\n",
       "    <tr>\n",
       "      <th>0</th>\n",
       "      <td>18009</td>\n",
       "      <td>80</td>\n",
       "      <td>6</td>\n",
       "      <td>0</td>\n",
       "      <td>1</td>\n",
       "      <td>0</td>\n",
       "      <td>1</td>\n",
       "      <td>1</td>\n",
       "      <td>0</td>\n",
       "      <td>1</td>\n",
       "      <td>...</td>\n",
       "      <td>0</td>\n",
       "      <td>0</td>\n",
       "      <td>0</td>\n",
       "      <td>0</td>\n",
       "      <td>0</td>\n",
       "      <td>0</td>\n",
       "      <td>0</td>\n",
       "      <td>0</td>\n",
       "      <td>0</td>\n",
       "      <td>0</td>\n",
       "    </tr>\n",
       "    <tr>\n",
       "      <th>1</th>\n",
       "      <td>28583</td>\n",
       "      <td>157</td>\n",
       "      <td>11</td>\n",
       "      <td>0</td>\n",
       "      <td>0</td>\n",
       "      <td>0</td>\n",
       "      <td>0</td>\n",
       "      <td>1</td>\n",
       "      <td>0</td>\n",
       "      <td>1</td>\n",
       "      <td>...</td>\n",
       "      <td>0</td>\n",
       "      <td>0</td>\n",
       "      <td>0</td>\n",
       "      <td>0</td>\n",
       "      <td>0</td>\n",
       "      <td>0</td>\n",
       "      <td>0</td>\n",
       "      <td>0</td>\n",
       "      <td>0</td>\n",
       "      <td>0</td>\n",
       "    </tr>\n",
       "    <tr>\n",
       "      <th>2</th>\n",
       "      <td>41580</td>\n",
       "      <td>82</td>\n",
       "      <td>6</td>\n",
       "      <td>0</td>\n",
       "      <td>0</td>\n",
       "      <td>0</td>\n",
       "      <td>0</td>\n",
       "      <td>0</td>\n",
       "      <td>0</td>\n",
       "      <td>0</td>\n",
       "      <td>...</td>\n",
       "      <td>0</td>\n",
       "      <td>0</td>\n",
       "      <td>0</td>\n",
       "      <td>0</td>\n",
       "      <td>0</td>\n",
       "      <td>0</td>\n",
       "      <td>0</td>\n",
       "      <td>0</td>\n",
       "      <td>0</td>\n",
       "      <td>0</td>\n",
       "    </tr>\n",
       "  </tbody>\n",
       "</table>\n",
       "<p>3 rows × 4503 columns</p>\n",
       "</div>"
      ],
      "text/plain": [
       "      id  char_count  ingredient_count  baking powder  eggs  \\\n",
       "0  18009          80                 6              0     1   \n",
       "1  28583         157                11              0     0   \n",
       "2  41580          82                 6              0     0   \n",
       "\n",
       "   all-purpose flour  raisins  milk  white sugar  sugar  ...  fraise  \\\n",
       "0                  0        1     1            0      1  ...       0   \n",
       "1                  0        0     1            0      1  ...       0   \n",
       "2                  0        0     0            0      0  ...       0   \n",
       "\n",
       "   beef heart  lambs liver  soft cheese  sliced mango  pork strips  \\\n",
       "0           0            0            0             0            0   \n",
       "1           0            0            0             0            0   \n",
       "2           0            0            0             0            0   \n",
       "\n",
       "   shark fillets  hash brown  porter  butter crackers  \n",
       "0              0           0       0                0  \n",
       "1              0           0       0                0  \n",
       "2              0           0       0                0  \n",
       "\n",
       "[3 rows x 4503 columns]"
      ]
     },
     "execution_count": 22,
     "metadata": {},
     "output_type": "execute_result"
    }
   ],
   "source": [
    "test.head(3)"
   ]
  },
  {
   "cell_type": "markdown",
   "id": "7ee7d362-3e3e-4840-b8af-71bbdf6b95a2",
   "metadata": {},
   "source": [
    "## Set X and y"
   ]
  },
  {
   "cell_type": "code",
   "execution_count": 23,
   "id": "5aa9ae8c-9e97-4c0b-bc1d-d208a5b3fca3",
   "metadata": {},
   "outputs": [],
   "source": [
    "X_train = train.drop(columns=['cuisine', 'id']) \n",
    "X_test = test.drop(columns=['id'])"
   ]
  },
  {
   "cell_type": "code",
   "execution_count": 24,
   "id": "76eb325d-53e9-48e4-9ebc-35a8af253fb3",
   "metadata": {},
   "outputs": [
    {
     "data": {
      "text/plain": [
       "(39774, 6849)"
      ]
     },
     "execution_count": 24,
     "metadata": {},
     "output_type": "execute_result"
    }
   ],
   "source": [
    "X_train.shape"
   ]
  },
  {
   "cell_type": "code",
   "execution_count": 25,
   "id": "51eb1c39-f92b-4d62-afe6-11a880c4154a",
   "metadata": {},
   "outputs": [
    {
     "data": {
      "text/plain": [
       "(9944, 4502)"
      ]
     },
     "execution_count": 25,
     "metadata": {},
     "output_type": "execute_result"
    }
   ],
   "source": [
    "X_test.shape"
   ]
  },
  {
   "cell_type": "code",
   "execution_count": 32,
   "id": "3c1272e9-1a09-4058-8c58-f1bb020481fc",
   "metadata": {},
   "outputs": [],
   "source": [
    "y_train = train['cuisine']"
   ]
  },
  {
   "cell_type": "markdown",
   "id": "e93d455f-6339-4fe4-abda-7db464dd0201",
   "metadata": {},
   "source": [
    "## Remove Addit. Train columns"
   ]
  },
  {
   "cell_type": "code",
   "execution_count": 27,
   "id": "ba8bcb2a-7624-4cbf-ab57-cbc6a7b15fbf",
   "metadata": {
    "tags": []
   },
   "outputs": [],
   "source": [
    "remove_cols_list = set(X_train.columns) - set(X_test.columns)"
   ]
  },
  {
   "cell_type": "code",
   "execution_count": 30,
   "id": "e0a251b6-40f1-4295-b5c3-d8b7578390c7",
   "metadata": {},
   "outputs": [],
   "source": [
    "X_train.drop(columns = remove_cols_list, inplace = True)"
   ]
  },
  {
   "cell_type": "code",
   "execution_count": 31,
   "id": "2106b885-6e19-4a75-b6af-a8941c588c99",
   "metadata": {
    "tags": []
   },
   "outputs": [],
   "source": [
    "remove_cols_list = set(X_test.columns) - set(X_train.columns)"
   ]
  },
  {
   "cell_type": "code",
   "execution_count": 33,
   "id": "f9056c92-d4f5-40c1-afad-05318a2799ef",
   "metadata": {},
   "outputs": [],
   "source": [
    "X_test.drop(columns = remove_cols_list, inplace = True)"
   ]
  },
  {
   "cell_type": "code",
   "execution_count": 36,
   "id": "5a632f04-ee88-49fd-87c1-ac6411ea909a",
   "metadata": {},
   "outputs": [
    {
     "data": {
      "text/plain": [
       "True"
      ]
     },
     "execution_count": 36,
     "metadata": {},
     "output_type": "execute_result"
    }
   ],
   "source": [
    "X_train.shape[1] == X_test.shape[1]"
   ]
  },
  {
   "cell_type": "code",
   "execution_count": 49,
   "id": "2af4c18f-f590-4da1-8bd0-3027a823bb23",
   "metadata": {},
   "outputs": [
    {
     "data": {
      "text/plain": [
       "(39774, 4047)"
      ]
     },
     "execution_count": 49,
     "metadata": {},
     "output_type": "execute_result"
    }
   ],
   "source": [
    "X_train.shape"
   ]
  },
  {
   "cell_type": "markdown",
   "id": "38e104cf-e74c-4e31-acee-f23e77260e73",
   "metadata": {},
   "source": [
    "## Create Pipeline with StandardScaler() and a Random Forest Model"
   ]
  },
  {
   "cell_type": "code",
   "execution_count": 52,
   "id": "e7073285-1852-4cd1-b266-49d8dd7a66f8",
   "metadata": {},
   "outputs": [],
   "source": [
    "pipe= Pipeline([\n",
    "    ('sc', StandardScaler()),\n",
    "    ('model', RandomForestClassifier())\n",
    "])"
   ]
  },
  {
   "cell_type": "markdown",
   "id": "609bab0b-b68d-4120-9402-ee262b077036",
   "metadata": {
    "tags": []
   },
   "source": [
    "## BayesSearch"
   ]
  },
  {
   "cell_type": "code",
   "execution_count": 56,
   "id": "b3f035bd-2876-47d4-b207-f2d4ea2d69a0",
   "metadata": {},
   "outputs": [],
   "source": [
    "params = {\n",
    "    'model__ccp_alpha': Real(1e-5, 1e+2, prior='log-uniform'),\n",
    "    'model__n_estimators': Integer(100, 500),\n",
    "    'model__max_depth': Integer(1, 4047),\n",
    "    'model__max_features': Integer(1, 4047)\n",
    "}"
   ]
  },
  {
   "cell_type": "code",
   "execution_count": 57,
   "id": "45ec5adb-93ad-4b7b-9b74-2327cc9abf73",
   "metadata": {},
   "outputs": [],
   "source": [
    "bs = BayesSearchCV(estimator = pipe,\n",
    "                     search_spaces = params,\n",
    "                     scoring = 'f1_weighted',\n",
    "                     n_iter = 10,\n",
    "                     cv = 3,\n",
    "                     verbose = 1, n_jobs=-1,\n",
    "                     random_state=42)"
   ]
  },
  {
   "cell_type": "code",
   "execution_count": 58,
   "id": "b2d04caf-a9b2-4d38-9c90-d9435bb47824",
   "metadata": {},
   "outputs": [
    {
     "name": "stdout",
     "output_type": "stream",
     "text": [
      "Fitting 3 folds for each of 1 candidates, totalling 3 fits\n",
      "Fitting 3 folds for each of 1 candidates, totalling 3 fits\n",
      "Fitting 3 folds for each of 1 candidates, totalling 3 fits\n",
      "Fitting 3 folds for each of 1 candidates, totalling 3 fits\n",
      "Fitting 3 folds for each of 1 candidates, totalling 3 fits\n",
      "Fitting 3 folds for each of 1 candidates, totalling 3 fits\n",
      "Fitting 3 folds for each of 1 candidates, totalling 3 fits\n",
      "Fitting 3 folds for each of 1 candidates, totalling 3 fits\n",
      "Fitting 3 folds for each of 1 candidates, totalling 3 fits\n",
      "Fitting 3 folds for each of 1 candidates, totalling 3 fits\n"
     ]
    },
    {
     "data": {
      "text/html": [
       "<style>#sk-container-id-1 {color: black;background-color: white;}#sk-container-id-1 pre{padding: 0;}#sk-container-id-1 div.sk-toggleable {background-color: white;}#sk-container-id-1 label.sk-toggleable__label {cursor: pointer;display: block;width: 100%;margin-bottom: 0;padding: 0.3em;box-sizing: border-box;text-align: center;}#sk-container-id-1 label.sk-toggleable__label-arrow:before {content: \"▸\";float: left;margin-right: 0.25em;color: #696969;}#sk-container-id-1 label.sk-toggleable__label-arrow:hover:before {color: black;}#sk-container-id-1 div.sk-estimator:hover label.sk-toggleable__label-arrow:before {color: black;}#sk-container-id-1 div.sk-toggleable__content {max-height: 0;max-width: 0;overflow: hidden;text-align: left;background-color: #f0f8ff;}#sk-container-id-1 div.sk-toggleable__content pre {margin: 0.2em;color: black;border-radius: 0.25em;background-color: #f0f8ff;}#sk-container-id-1 input.sk-toggleable__control:checked~div.sk-toggleable__content {max-height: 200px;max-width: 100%;overflow: auto;}#sk-container-id-1 input.sk-toggleable__control:checked~label.sk-toggleable__label-arrow:before {content: \"▾\";}#sk-container-id-1 div.sk-estimator input.sk-toggleable__control:checked~label.sk-toggleable__label {background-color: #d4ebff;}#sk-container-id-1 div.sk-label input.sk-toggleable__control:checked~label.sk-toggleable__label {background-color: #d4ebff;}#sk-container-id-1 input.sk-hidden--visually {border: 0;clip: rect(1px 1px 1px 1px);clip: rect(1px, 1px, 1px, 1px);height: 1px;margin: -1px;overflow: hidden;padding: 0;position: absolute;width: 1px;}#sk-container-id-1 div.sk-estimator {font-family: monospace;background-color: #f0f8ff;border: 1px dotted black;border-radius: 0.25em;box-sizing: border-box;margin-bottom: 0.5em;}#sk-container-id-1 div.sk-estimator:hover {background-color: #d4ebff;}#sk-container-id-1 div.sk-parallel-item::after {content: \"\";width: 100%;border-bottom: 1px solid gray;flex-grow: 1;}#sk-container-id-1 div.sk-label:hover label.sk-toggleable__label {background-color: #d4ebff;}#sk-container-id-1 div.sk-serial::before {content: \"\";position: absolute;border-left: 1px solid gray;box-sizing: border-box;top: 0;bottom: 0;left: 50%;z-index: 0;}#sk-container-id-1 div.sk-serial {display: flex;flex-direction: column;align-items: center;background-color: white;padding-right: 0.2em;padding-left: 0.2em;position: relative;}#sk-container-id-1 div.sk-item {position: relative;z-index: 1;}#sk-container-id-1 div.sk-parallel {display: flex;align-items: stretch;justify-content: center;background-color: white;position: relative;}#sk-container-id-1 div.sk-item::before, #sk-container-id-1 div.sk-parallel-item::before {content: \"\";position: absolute;border-left: 1px solid gray;box-sizing: border-box;top: 0;bottom: 0;left: 50%;z-index: -1;}#sk-container-id-1 div.sk-parallel-item {display: flex;flex-direction: column;z-index: 1;position: relative;background-color: white;}#sk-container-id-1 div.sk-parallel-item:first-child::after {align-self: flex-end;width: 50%;}#sk-container-id-1 div.sk-parallel-item:last-child::after {align-self: flex-start;width: 50%;}#sk-container-id-1 div.sk-parallel-item:only-child::after {width: 0;}#sk-container-id-1 div.sk-dashed-wrapped {border: 1px dashed gray;margin: 0 0.4em 0.5em 0.4em;box-sizing: border-box;padding-bottom: 0.4em;background-color: white;}#sk-container-id-1 div.sk-label label {font-family: monospace;font-weight: bold;display: inline-block;line-height: 1.2em;}#sk-container-id-1 div.sk-label-container {text-align: center;}#sk-container-id-1 div.sk-container {/* jupyter's `normalize.less` sets `[hidden] { display: none; }` but bootstrap.min.css set `[hidden] { display: none !important; }` so we also need the `!important` here to be able to override the default hidden behavior on the sphinx rendered scikit-learn.org. See: https://github.com/scikit-learn/scikit-learn/issues/21755 */display: inline-block !important;position: relative;}#sk-container-id-1 div.sk-text-repr-fallback {display: none;}</style><div id=\"sk-container-id-1\" class=\"sk-top-container\"><div class=\"sk-text-repr-fallback\"><pre>BayesSearchCV(cv=3,\n",
       "              estimator=Pipeline(steps=[(&#x27;sc&#x27;, StandardScaler()),\n",
       "                                        (&#x27;model&#x27;, RandomForestClassifier())]),\n",
       "              n_iter=10, n_jobs=-1, random_state=42, scoring=&#x27;f1_weighted&#x27;,\n",
       "              search_spaces={&#x27;model__ccp_alpha&#x27;: Real(low=1e-05, high=100.0, prior=&#x27;log-uniform&#x27;, transform=&#x27;normalize&#x27;),\n",
       "                             &#x27;model__max_depth&#x27;: Integer(low=1, high=4047, prior=&#x27;uniform&#x27;, transform=&#x27;normalize&#x27;),\n",
       "                             &#x27;model__max_features&#x27;: Integer(low=1, high=4047, prior=&#x27;uniform&#x27;, transform=&#x27;normalize&#x27;),\n",
       "                             &#x27;model__n_estimators&#x27;: Integer(low=100, high=500, prior=&#x27;uniform&#x27;, transform=&#x27;normalize&#x27;)},\n",
       "              verbose=1)</pre><b>In a Jupyter environment, please rerun this cell to show the HTML representation or trust the notebook. <br />On GitHub, the HTML representation is unable to render, please try loading this page with nbviewer.org.</b></div><div class=\"sk-container\" hidden><div class=\"sk-item sk-dashed-wrapped\"><div class=\"sk-label-container\"><div class=\"sk-label sk-toggleable\"><input class=\"sk-toggleable__control sk-hidden--visually\" id=\"sk-estimator-id-1\" type=\"checkbox\" ><label for=\"sk-estimator-id-1\" class=\"sk-toggleable__label sk-toggleable__label-arrow\">BayesSearchCV</label><div class=\"sk-toggleable__content\"><pre>BayesSearchCV(cv=3,\n",
       "              estimator=Pipeline(steps=[(&#x27;sc&#x27;, StandardScaler()),\n",
       "                                        (&#x27;model&#x27;, RandomForestClassifier())]),\n",
       "              n_iter=10, n_jobs=-1, random_state=42, scoring=&#x27;f1_weighted&#x27;,\n",
       "              search_spaces={&#x27;model__ccp_alpha&#x27;: Real(low=1e-05, high=100.0, prior=&#x27;log-uniform&#x27;, transform=&#x27;normalize&#x27;),\n",
       "                             &#x27;model__max_depth&#x27;: Integer(low=1, high=4047, prior=&#x27;uniform&#x27;, transform=&#x27;normalize&#x27;),\n",
       "                             &#x27;model__max_features&#x27;: Integer(low=1, high=4047, prior=&#x27;uniform&#x27;, transform=&#x27;normalize&#x27;),\n",
       "                             &#x27;model__n_estimators&#x27;: Integer(low=100, high=500, prior=&#x27;uniform&#x27;, transform=&#x27;normalize&#x27;)},\n",
       "              verbose=1)</pre></div></div></div><div class=\"sk-parallel\"><div class=\"sk-parallel-item\"><div class=\"sk-item\"><div class=\"sk-label-container\"><div class=\"sk-label sk-toggleable\"><input class=\"sk-toggleable__control sk-hidden--visually\" id=\"sk-estimator-id-2\" type=\"checkbox\" ><label for=\"sk-estimator-id-2\" class=\"sk-toggleable__label sk-toggleable__label-arrow\">estimator: Pipeline</label><div class=\"sk-toggleable__content\"><pre>Pipeline(steps=[(&#x27;sc&#x27;, StandardScaler()), (&#x27;model&#x27;, RandomForestClassifier())])</pre></div></div></div><div class=\"sk-serial\"><div class=\"sk-item\"><div class=\"sk-serial\"><div class=\"sk-item\"><div class=\"sk-estimator sk-toggleable\"><input class=\"sk-toggleable__control sk-hidden--visually\" id=\"sk-estimator-id-3\" type=\"checkbox\" ><label for=\"sk-estimator-id-3\" class=\"sk-toggleable__label sk-toggleable__label-arrow\">StandardScaler</label><div class=\"sk-toggleable__content\"><pre>StandardScaler()</pre></div></div></div><div class=\"sk-item\"><div class=\"sk-estimator sk-toggleable\"><input class=\"sk-toggleable__control sk-hidden--visually\" id=\"sk-estimator-id-4\" type=\"checkbox\" ><label for=\"sk-estimator-id-4\" class=\"sk-toggleable__label sk-toggleable__label-arrow\">RandomForestClassifier</label><div class=\"sk-toggleable__content\"><pre>RandomForestClassifier()</pre></div></div></div></div></div></div></div></div></div></div></div></div>"
      ],
      "text/plain": [
       "BayesSearchCV(cv=3,\n",
       "              estimator=Pipeline(steps=[('sc', StandardScaler()),\n",
       "                                        ('model', RandomForestClassifier())]),\n",
       "              n_iter=10, n_jobs=-1, random_state=42, scoring='f1_weighted',\n",
       "              search_spaces={'model__ccp_alpha': Real(low=1e-05, high=100.0, prior='log-uniform', transform='normalize'),\n",
       "                             'model__max_depth': Integer(low=1, high=4047, prior='uniform', transform='normalize'),\n",
       "                             'model__max_features': Integer(low=1, high=4047, prior='uniform', transform='normalize'),\n",
       "                             'model__n_estimators': Integer(low=100, high=500, prior='uniform', transform='normalize')},\n",
       "              verbose=1)"
      ]
     },
     "execution_count": 58,
     "metadata": {},
     "output_type": "execute_result"
    }
   ],
   "source": [
    "bs.fit(X_train,y_train)"
   ]
  },
  {
   "cell_type": "code",
   "execution_count": 61,
   "id": "5afba1ca-293b-4d18-a9fb-efd319ebbaa7",
   "metadata": {},
   "outputs": [],
   "source": [
    "with open('../data/model.pkl', 'wb') as pickle_out:\n",
    "    pickle.dump(bs, pickle_out)"
   ]
  },
  {
   "cell_type": "markdown",
   "id": "19ea385c-f211-4688-8e2a-938b7d5df8d5",
   "metadata": {},
   "source": [
    "## plot performance"
   ]
  },
  {
   "cell_type": "code",
   "execution_count": 76,
   "id": "0bdf64b7-38a8-4216-9a7e-f8c0515cd37c",
   "metadata": {},
   "outputs": [],
   "source": [
    "labels =['italian', 'mexican', 'southern_us', 'indian', 'chinese', 'french', 'cajun_creole', 'thai', 'japanese', 'greek', 'spanish', 'korean', 'vietnamese', 'moroccan', 'british', 'filipino', 'irish', 'jamaican', 'russian', 'brazilian']"
   ]
  },
  {
   "cell_type": "code",
   "execution_count": 79,
   "id": "779f7524-04a2-4e15-8e8a-71efdaec5a6a",
   "metadata": {},
   "outputs": [
    {
     "data": {
      "text/plain": [
       "{'italian': 0,\n",
       " 'mexican': 1,\n",
       " 'southern_us': 2,\n",
       " 'indian': 3,\n",
       " 'chinese': 4,\n",
       " 'french': 5,\n",
       " 'cajun_creole': 6,\n",
       " 'thai': 7,\n",
       " 'japanese': 8,\n",
       " 'greek': 9,\n",
       " 'spanish': 10,\n",
       " 'korean': 11,\n",
       " 'vietnamese': 12,\n",
       " 'moroccan': 13,\n",
       " 'british': 14,\n",
       " 'filipino': 15,\n",
       " 'irish': 16,\n",
       " 'jamaican': 17,\n",
       " 'russian': 18,\n",
       " 'brazilian': 19}"
      ]
     },
     "execution_count": 79,
     "metadata": {},
     "output_type": "execute_result"
    }
   ],
   "source": [
    "dict(zip(labels, range(len(labels))))"
   ]
  },
  {
   "cell_type": "code",
   "execution_count": 82,
   "id": "1f14a831-ab79-4406-9661-f67ee82f1ee4",
   "metadata": {},
   "outputs": [
    {
     "name": "stderr",
     "output_type": "stream",
     "text": [
      "/Users/kaitcrawford/opt/anaconda3/envs/cwk/lib/python3.10/site-packages/sklearn/utils/deprecation.py:87: FutureWarning: Function plot_confusion_matrix is deprecated; Function `plot_confusion_matrix` is deprecated in 1.0 and will be removed in 1.2. Use one of the class methods: ConfusionMatrixDisplay.from_predictions or ConfusionMatrixDisplay.from_estimator.\n",
      "  warnings.warn(msg, category=FutureWarning)\n"
     ]
    },
    {
     "data": {
      "text/plain": [
       "<Figure size 2000x1000 with 0 Axes>"
      ]
     },
     "metadata": {},
     "output_type": "display_data"
    },
    {
     "data": {
      "image/png": "[encoded data removed]",
      "text/plain": [
       "<Figure size 640x480 with 2 Axes>"
      ]
     },
     "metadata": {},
     "output_type": "display_data"
    }
   ],
   "source": [
    "plt.figure(figsize=(20,10))\n",
    "plot_confusion_matrix(bs, X_train, y_train, cmap='viridis');"
   ]
  },
  {
   "cell_type": "code",
   "execution_count": 64,
   "id": "e1f89484-394e-4946-b46f-15f3a3073835",
   "metadata": {},
   "outputs": [
    {
     "name": "stderr",
     "output_type": "stream",
     "text": [
      "/Users/kaitcrawford/opt/anaconda3/envs/cwk/lib/python3.10/site-packages/sklearn/base.py:493: FutureWarning: The feature names should match those that were passed during fit. Starting version 1.2, an error will be raised.\n",
      "Feature names must be in the same order as they were in fit.\n",
      "\n",
      "  warnings.warn(message, FutureWarning)\n",
      "/Users/kaitcrawford/opt/anaconda3/envs/cwk/lib/python3.10/site-packages/sklearn/utils/deprecation.py:87: FutureWarning: Function plot_confusion_matrix is deprecated; Function `plot_confusion_matrix` is deprecated in 1.0 and will be removed in 1.2. Use one of the class methods: ConfusionMatrixDisplay.from_predictions or ConfusionMatrixDisplay.from_estimator.\n",
      "  warnings.warn(msg, category=FutureWarning)\n",
      "/Users/kaitcrawford/opt/anaconda3/envs/cwk/lib/python3.10/site-packages/sklearn/base.py:493: FutureWarning: The feature names should match those that were passed during fit. Starting version 1.2, an error will be raised.\n",
      "Feature names must be in the same order as they were in fit.\n",
      "\n",
      "  warnings.warn(message, FutureWarning)\n"
     ]
    },
    {
     "data": {
      "image/png": "[encoded data removed]",
      "text/plain": [
       "<Figure size 640x480 with 2 Axes>"
      ]
     },
     "metadata": {},
     "output_type": "display_data"
    }
   ],
   "source": [
    "plot_confusion_matrix(bs, X_test, bs.predict(X_test));"
   ]
  }
 ],
 "metadata": {
  "kernelspec": {
   "display_name": "Python [conda env:cwk]",
   "language": "python",
   "name": "conda-env-cwk-py"
  },
  "language_info": {
   "codemirror_mode": {
    "name": "ipython",
    "version": 3
   },
   "file_extension": ".py",
   "mimetype": "text/x-python",
   "name": "python",
   "nbconvert_exporter": "python",
   "pygments_lexer": "ipython3",
   "version": "3.10.8"
  }
 },
 "nbformat": 4,
 "nbformat_minor": 5
}
