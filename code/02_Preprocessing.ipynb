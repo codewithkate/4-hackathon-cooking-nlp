{
 "cells": [
  {
   "cell_type": "markdown",
   "id": "591bc31f-5256-4248-973a-83b9f229aa36",
   "metadata": {},
   "source": [
    "# Preprocessing\n",
    "___"
   ]
  },
  {
   "cell_type": "markdown",
   "id": "b7db0c67-773d-477a-8cda-7ab84d5be217",
   "metadata": {},
   "source": [
    "## Load Libraries"
   ]
  },
  {
   "cell_type": "code",
   "execution_count": 1,
   "id": "c4b9882e-ad31-49e5-be6a-7e50bd6c0edb",
   "metadata": {
    "tags": []
   },
   "outputs": [],
   "source": [
    "# !pip install -U spacy"
   ]
  },
  {
   "cell_type": "code",
   "execution_count": 44,
   "id": "9dc9bbac-6075-466a-abaa-1f53ff684d9f",
   "metadata": {},
   "outputs": [],
   "source": [
    "import pandas as pd\n",
    "import numpy as np\n",
    "import seaborn as sns\n",
    "import matplotlib.pyplot as plt\n",
    "import pickle\n",
    "\n",
    "# NLP\n",
    "import spacy\n",
    "\n",
    "# Vectorizing\n",
    "from skopt.space import Integer, Real, Categorical\n",
    "from sklearn.feature_extraction.text import CountVectorizer\n",
    "from sklearn.naive_bayes import MultinomialNB\n",
    "from skopt import BayesSearchCV\n",
    "from sklearn.pipeline import Pipeline"
   ]
  },
  {
   "cell_type": "markdown",
   "id": "01a79109-e36e-4d9e-9fb7-48453b4eee11",
   "metadata": {},
   "source": [
    "## Read in Data"
   ]
  },
  {
   "cell_type": "code",
   "execution_count": 3,
   "id": "d78bc9c5-233f-4e4f-8ff4-6d7c8cd29a53",
   "metadata": {},
   "outputs": [],
   "source": [
    "# If your test does not have equal columns to the number of columns you used in your training for the model. Will the model perform the same or worse?\n",
    "# Yes, your test and train columns need to be the same"
   ]
  },
  {
   "cell_type": "code",
   "execution_count": 4,
   "id": "19480558-e42b-4038-97f5-879552496a05",
   "metadata": {
    "tags": []
   },
   "outputs": [],
   "source": [
    "train = pd.read_csv('../data/train.csv', index_col='Unnamed: 0')"
   ]
  },
  {
   "cell_type": "code",
   "execution_count": 5,
   "id": "69d4e8d0-e82c-4c07-a782-f5417f5f4f4b",
   "metadata": {
    "tags": []
   },
   "outputs": [],
   "source": [
    "test = pd.read_csv('../data/test.csv', index_col='Unnamed: 0')"
   ]
  },
  {
   "cell_type": "markdown",
   "id": "bcf0d000-c83a-4684-83ed-d94261e6d8d2",
   "metadata": {
    "tags": []
   },
   "source": [
    "## Create Class"
   ]
  },
  {
   "cell_type": "code",
   "execution_count": 6,
   "id": "7228ba10-7de5-4acf-ba92-4833d4b9c0d0",
   "metadata": {},
   "outputs": [],
   "source": [
    "class ProcessedFoods:\n",
    "    def __init__(self, df, column):\n",
    "        self.df = df\n",
    "        self.column = column\n",
    "        \n",
    "    # Add column with character count\n",
    "    def get_char_count(self, new_column='char_count'):\n",
    "        self.df[new_column] = self.df[self.column].apply(lambda x: sum([len(item) for item in x]))\n",
    "        return self.df[new_column]\n",
    "    \n",
    "    # Add column with ingredient count \n",
    "    def get_ingredient_count(self, new_column='ingredient_count'):\n",
    "        self.df[new_column] = self.df[self.column].apply(lambda x: len(str(x).split(',')))\n",
    "        return self.df[new_column]\n",
    "    \n",
    "    # Create a new column where values are list type\n",
    "    def convert_to_list(self, new_column='ingredient_list'): \n",
    "        self.df[new_column] = [i[2:-2].split(\"', '\") for i in self.df[self.column]]\n",
    "        return self.df[new_column]\n",
    "    \n",
    "    # Make vocabulary list of unique values in each row's list\n",
    "    def make_vocabulary(self, column):\n",
    "        list_name = []\n",
    "        \n",
    "        # prefer to use df from convert_to_list\n",
    "        for i in range(len(column)):\n",
    "            for item in column[i]:\n",
    "                if item not in list_name:\n",
    "                    list_name.append(item)\n",
    "                        \n",
    "        # pickle for your pleasure\n",
    "        with open('../data/word_list.pkl', 'wb') as pickle_in:\n",
    "            pickle.dump(list_name, pickle_in)\n",
    "        \n",
    "        # set equal to vocabulary for vectorizer\n",
    "        return list_name"
   ]
  },
  {
   "cell_type": "markdown",
   "id": "65092b0d-306e-44be-bf82-0a466b6608f8",
   "metadata": {},
   "source": [
    "Adapted from: [Isaac Aderogba](https://deepnote.com/@isaac-aderogba/Spacy-Food-Entities-2cc2d19c-c3ac-4321-8853-0bcf2ef565b3)"
   ]
  },
  {
   "cell_type": "markdown",
   "id": "83c095ce-7d15-455d-8fbc-7013c4ae7835",
   "metadata": {
    "jp-MarkdownHeadingCollapsed": true,
    "tags": []
   },
   "source": [
    "## Tidy Train dataset"
   ]
  },
  {
   "cell_type": "code",
   "execution_count": 7,
   "id": "8d863cd5-e733-4955-b7c3-8df31aebc5df",
   "metadata": {},
   "outputs": [
    {
     "data": {
      "text/html": [
       "<div>\n",
       "<style scoped>\n",
       "    .dataframe tbody tr th:only-of-type {\n",
       "        vertical-align: middle;\n",
       "    }\n",
       "\n",
       "    .dataframe tbody tr th {\n",
       "        vertical-align: top;\n",
       "    }\n",
       "\n",
       "    .dataframe thead th {\n",
       "        text-align: right;\n",
       "    }\n",
       "</style>\n",
       "<table border=\"1\" class=\"dataframe\">\n",
       "  <thead>\n",
       "    <tr style=\"text-align: right;\">\n",
       "      <th></th>\n",
       "      <th>id</th>\n",
       "      <th>cuisine</th>\n",
       "      <th>ingredients</th>\n",
       "    </tr>\n",
       "  </thead>\n",
       "  <tbody>\n",
       "    <tr>\n",
       "      <th>0</th>\n",
       "      <td>10259</td>\n",
       "      <td>greek</td>\n",
       "      <td>['romaine lettuce', 'black olives', 'grape tom...</td>\n",
       "    </tr>\n",
       "    <tr>\n",
       "      <th>1</th>\n",
       "      <td>25693</td>\n",
       "      <td>southern_us</td>\n",
       "      <td>['plain flour', 'ground pepper', 'salt', 'toma...</td>\n",
       "    </tr>\n",
       "    <tr>\n",
       "      <th>2</th>\n",
       "      <td>20130</td>\n",
       "      <td>filipino</td>\n",
       "      <td>['eggs', 'pepper', 'salt', 'mayonaise', 'cooki...</td>\n",
       "    </tr>\n",
       "  </tbody>\n",
       "</table>\n",
       "</div>"
      ],
      "text/plain": [
       "      id      cuisine                                        ingredients\n",
       "0  10259        greek  ['romaine lettuce', 'black olives', 'grape tom...\n",
       "1  25693  southern_us  ['plain flour', 'ground pepper', 'salt', 'toma...\n",
       "2  20130     filipino  ['eggs', 'pepper', 'salt', 'mayonaise', 'cooki..."
      ]
     },
     "execution_count": 7,
     "metadata": {},
     "output_type": "execute_result"
    }
   ],
   "source": [
    "train.head(3)"
   ]
  },
  {
   "cell_type": "code",
   "execution_count": 8,
   "id": "315d50c0-f32b-4d02-82e5-e9125901048c",
   "metadata": {},
   "outputs": [],
   "source": [
    "process_train = ProcessedFoods(df = train, column = 'ingredients')"
   ]
  },
  {
   "cell_type": "markdown",
   "id": "eaa4fd95-8ac1-4c8f-befc-e45d18c04973",
   "metadata": {
    "jp-MarkdownHeadingCollapsed": true,
    "tags": []
   },
   "source": [
    "### character count"
   ]
  },
  {
   "cell_type": "code",
   "execution_count": 9,
   "id": "2337979f-d950-4ba4-9188-f045baca4c74",
   "metadata": {},
   "outputs": [],
   "source": [
    "train['char_count'] = process_train.get_char_count()"
   ]
  },
  {
   "cell_type": "code",
   "execution_count": 10,
   "id": "c829ab4a-d8f0-4137-8dfc-d4599b6c1e9b",
   "metadata": {},
   "outputs": [
    {
     "data": {
      "text/plain": [
       "(39774, 4)"
      ]
     },
     "execution_count": 10,
     "metadata": {},
     "output_type": "execute_result"
    }
   ],
   "source": [
    "train.shape"
   ]
  },
  {
   "cell_type": "markdown",
   "id": "ae00c0d4-c68c-41e3-b964-2a04882fa0d5",
   "metadata": {
    "jp-MarkdownHeadingCollapsed": true,
    "tags": []
   },
   "source": [
    "### ingerdient count"
   ]
  },
  {
   "cell_type": "code",
   "execution_count": 11,
   "id": "aa1b23a6-ce09-4c8f-8807-e151f214c7f6",
   "metadata": {},
   "outputs": [],
   "source": [
    "train['ingredient_count'] = process_train.get_ingredient_count()"
   ]
  },
  {
   "cell_type": "code",
   "execution_count": 12,
   "id": "59625f43-d4f4-4202-8a43-56cd3825c02d",
   "metadata": {},
   "outputs": [
    {
     "data": {
      "text/plain": [
       "(39774, 5)"
      ]
     },
     "execution_count": 12,
     "metadata": {},
     "output_type": "execute_result"
    }
   ],
   "source": [
    "train.shape"
   ]
  },
  {
   "cell_type": "markdown",
   "id": "b4a826c7-6f82-4531-ba65-775b5fabb3c4",
   "metadata": {
    "jp-MarkdownHeadingCollapsed": true,
    "tags": []
   },
   "source": [
    "### convert column to list"
   ]
  },
  {
   "cell_type": "code",
   "execution_count": 13,
   "id": "27d85a0d-546e-4046-af08-c7e7419946ac",
   "metadata": {},
   "outputs": [],
   "source": [
    "train['ingredient_lists'] = process_train.convert_to_list()"
   ]
  },
  {
   "cell_type": "code",
   "execution_count": 14,
   "id": "181b7ca8-98e9-4265-8562-fd998309f962",
   "metadata": {},
   "outputs": [
    {
     "data": {
      "text/plain": [
       "list"
      ]
     },
     "execution_count": 14,
     "metadata": {},
     "output_type": "execute_result"
    }
   ],
   "source": [
    "type(train['ingredient_lists'][0])"
   ]
  },
  {
   "cell_type": "markdown",
   "id": "6356e2e7-00ba-47de-8bef-85981cef994b",
   "metadata": {
    "jp-MarkdownHeadingCollapsed": true,
    "tags": []
   },
   "source": [
    "### make vocabulary"
   ]
  },
  {
   "cell_type": "code",
   "execution_count": 15,
   "id": "26bba547-e758-4a4f-84be-7887f753fb97",
   "metadata": {},
   "outputs": [],
   "source": [
    "train_vocab = process_train.make_vocabulary(train['ingredient_lists'])"
   ]
  },
  {
   "cell_type": "code",
   "execution_count": 16,
   "id": "2a7811db-b498-467a-a5be-b9e610b7f522",
   "metadata": {
    "tags": []
   },
   "outputs": [
    {
     "data": {
      "text/plain": [
       "['romaine lettuce', 'black olives', 'grape tomatoes', 'garlic', 'pepper']"
      ]
     },
     "execution_count": 16,
     "metadata": {},
     "output_type": "execute_result"
    }
   ],
   "source": [
    "train_vocab[:5]"
   ]
  },
  {
   "cell_type": "markdown",
   "id": "de6fcf5c-b104-45d9-960b-a8b5dfd3c6a6",
   "metadata": {
    "jp-MarkdownHeadingCollapsed": true,
    "tags": []
   },
   "source": [
    "## Tidy Test dataset"
   ]
  },
  {
   "cell_type": "code",
   "execution_count": 17,
   "id": "56bcf867-8d36-4fb3-b275-df3189db664c",
   "metadata": {},
   "outputs": [
    {
     "data": {
      "text/html": [
       "<div>\n",
       "<style scoped>\n",
       "    .dataframe tbody tr th:only-of-type {\n",
       "        vertical-align: middle;\n",
       "    }\n",
       "\n",
       "    .dataframe tbody tr th {\n",
       "        vertical-align: top;\n",
       "    }\n",
       "\n",
       "    .dataframe thead th {\n",
       "        text-align: right;\n",
       "    }\n",
       "</style>\n",
       "<table border=\"1\" class=\"dataframe\">\n",
       "  <thead>\n",
       "    <tr style=\"text-align: right;\">\n",
       "      <th></th>\n",
       "      <th>id</th>\n",
       "      <th>ingredients</th>\n",
       "    </tr>\n",
       "  </thead>\n",
       "  <tbody>\n",
       "    <tr>\n",
       "      <th>0</th>\n",
       "      <td>18009</td>\n",
       "      <td>['baking powder', 'eggs', 'all-purpose flour',...</td>\n",
       "    </tr>\n",
       "    <tr>\n",
       "      <th>1</th>\n",
       "      <td>28583</td>\n",
       "      <td>['sugar', 'egg yolks', 'corn starch', 'cream o...</td>\n",
       "    </tr>\n",
       "    <tr>\n",
       "      <th>2</th>\n",
       "      <td>41580</td>\n",
       "      <td>['sausage links', 'fennel bulb', 'fronds', 'ol...</td>\n",
       "    </tr>\n",
       "  </tbody>\n",
       "</table>\n",
       "</div>"
      ],
      "text/plain": [
       "      id                                        ingredients\n",
       "0  18009  ['baking powder', 'eggs', 'all-purpose flour',...\n",
       "1  28583  ['sugar', 'egg yolks', 'corn starch', 'cream o...\n",
       "2  41580  ['sausage links', 'fennel bulb', 'fronds', 'ol..."
      ]
     },
     "execution_count": 17,
     "metadata": {},
     "output_type": "execute_result"
    }
   ],
   "source": [
    "test.head(3)"
   ]
  },
  {
   "cell_type": "code",
   "execution_count": 18,
   "id": "f2c76454-b4e2-44e1-b195-31c6a9db3628",
   "metadata": {},
   "outputs": [],
   "source": [
    "process_test = ProcessedFoods(df = test, column = 'ingredients')"
   ]
  },
  {
   "cell_type": "markdown",
   "id": "5fce6c4f-ac66-4cdd-83f5-c32d9b97084f",
   "metadata": {
    "jp-MarkdownHeadingCollapsed": true,
    "tags": []
   },
   "source": [
    "### character count"
   ]
  },
  {
   "cell_type": "code",
   "execution_count": 19,
   "id": "c107a9f0-7761-4b22-9db4-0c98bb3e5cb4",
   "metadata": {},
   "outputs": [],
   "source": [
    "test['char_count'] = process_test.get_char_count()"
   ]
  },
  {
   "cell_type": "code",
   "execution_count": 20,
   "id": "31bb4a1d-2b3b-41f5-b577-2c017c956ccf",
   "metadata": {},
   "outputs": [
    {
     "data": {
      "text/plain": [
       "(9944, 3)"
      ]
     },
     "execution_count": 20,
     "metadata": {},
     "output_type": "execute_result"
    }
   ],
   "source": [
    "test.shape"
   ]
  },
  {
   "cell_type": "markdown",
   "id": "dcdbc637-1405-4f52-8981-71f3184c6e5b",
   "metadata": {
    "jp-MarkdownHeadingCollapsed": true,
    "tags": []
   },
   "source": [
    "### ingeredient count"
   ]
  },
  {
   "cell_type": "code",
   "execution_count": 21,
   "id": "566b8957-3c1b-4eca-8abf-61b5887bab37",
   "metadata": {},
   "outputs": [],
   "source": [
    "test['ingredient_count'] = process_test.get_ingredient_count()"
   ]
  },
  {
   "cell_type": "code",
   "execution_count": 22,
   "id": "e1d64553-7cb9-41f1-946c-447e5288e11d",
   "metadata": {},
   "outputs": [
    {
     "data": {
      "text/plain": [
       "(9944, 4)"
      ]
     },
     "execution_count": 22,
     "metadata": {},
     "output_type": "execute_result"
    }
   ],
   "source": [
    "test.shape"
   ]
  },
  {
   "cell_type": "markdown",
   "id": "894ba9b3-d4f3-49e6-ba87-f2539e34e1ac",
   "metadata": {
    "jp-MarkdownHeadingCollapsed": true,
    "tags": []
   },
   "source": [
    "### convert column to list"
   ]
  },
  {
   "cell_type": "code",
   "execution_count": 23,
   "id": "c82325ae-a9d5-45df-8d66-d7fa481cf3fd",
   "metadata": {},
   "outputs": [],
   "source": [
    "test['ingredient_lists'] = process_test.convert_to_list()"
   ]
  },
  {
   "cell_type": "code",
   "execution_count": 24,
   "id": "741fa4ed-dbf2-4efb-bc64-56415dce8cd9",
   "metadata": {},
   "outputs": [
    {
     "data": {
      "text/plain": [
       "list"
      ]
     },
     "execution_count": 24,
     "metadata": {},
     "output_type": "execute_result"
    }
   ],
   "source": [
    "type(test['ingredient_lists'][0])"
   ]
  },
  {
   "cell_type": "markdown",
   "id": "246e0f40-1ae2-4fc8-93d0-9d4d28d52646",
   "metadata": {
    "jp-MarkdownHeadingCollapsed": true,
    "tags": []
   },
   "source": [
    "### make vocabulary"
   ]
  },
  {
   "cell_type": "code",
   "execution_count": 25,
   "id": "cae4185f-e41d-4561-9e99-9ef2198ac786",
   "metadata": {},
   "outputs": [],
   "source": [
    "test_vocab = process_test.make_vocabulary(test['ingredient_lists'])"
   ]
  },
  {
   "cell_type": "code",
   "execution_count": 26,
   "id": "36eac88a-99a7-4d1c-89f7-4cf0c006e0e9",
   "metadata": {
    "tags": []
   },
   "outputs": [
    {
     "data": {
      "text/plain": [
       "['baking powder', 'eggs', 'all-purpose flour', 'raisins', 'milk']"
      ]
     },
     "execution_count": 26,
     "metadata": {},
     "output_type": "execute_result"
    }
   ],
   "source": [
    "test_vocab[:5]"
   ]
  },
  {
   "cell_type": "code",
   "execution_count": 27,
   "id": "ad6116bf-5585-426c-b23e-8f5567352cd4",
   "metadata": {},
   "outputs": [],
   "source": [
    "index_cuisine = range(len(train['cuisine'].unique()))\n",
    "index_cuisine = dict(zip(train['cuisine'].unique(), index_cuisine))"
   ]
  },
  {
   "cell_type": "code",
   "execution_count": 28,
   "id": "58427ee2-6018-4fe9-8e95-d9771cbdd81e",
   "metadata": {},
   "outputs": [],
   "source": [
    "train['cuisine'] = train['cuisine'].replace(index_cuisine)"
   ]
  },
  {
   "cell_type": "markdown",
   "id": "080fc589-24b0-4ba2-8f3e-d11186ac2ed6",
   "metadata": {
    "tags": []
   },
   "source": [
    "## Set X and y"
   ]
  },
  {
   "cell_type": "code",
   "execution_count": 29,
   "id": "6bbd5c7b-5168-43b0-bf99-1de81a9b0c04",
   "metadata": {},
   "outputs": [
    {
     "data": {
      "text/html": [
       "<div>\n",
       "<style scoped>\n",
       "    .dataframe tbody tr th:only-of-type {\n",
       "        vertical-align: middle;\n",
       "    }\n",
       "\n",
       "    .dataframe tbody tr th {\n",
       "        vertical-align: top;\n",
       "    }\n",
       "\n",
       "    .dataframe thead th {\n",
       "        text-align: right;\n",
       "    }\n",
       "</style>\n",
       "<table border=\"1\" class=\"dataframe\">\n",
       "  <thead>\n",
       "    <tr style=\"text-align: right;\">\n",
       "      <th></th>\n",
       "      <th>id</th>\n",
       "      <th>cuisine</th>\n",
       "      <th>ingredients</th>\n",
       "      <th>char_count</th>\n",
       "      <th>ingredient_count</th>\n",
       "      <th>ingredient_list</th>\n",
       "      <th>ingredient_lists</th>\n",
       "    </tr>\n",
       "  </thead>\n",
       "  <tbody>\n",
       "    <tr>\n",
       "      <th>0</th>\n",
       "      <td>10259</td>\n",
       "      <td>0</td>\n",
       "      <td>['romaine lettuce', 'black olives', 'grape tom...</td>\n",
       "      <td>144</td>\n",
       "      <td>9</td>\n",
       "      <td>[romaine lettuce, black olives, grape tomatoes...</td>\n",
       "      <td>[romaine lettuce, black olives, grape tomatoes...</td>\n",
       "    </tr>\n",
       "    <tr>\n",
       "      <th>1</th>\n",
       "      <td>25693</td>\n",
       "      <td>1</td>\n",
       "      <td>['plain flour', 'ground pepper', 'salt', 'toma...</td>\n",
       "      <td>155</td>\n",
       "      <td>11</td>\n",
       "      <td>[plain flour, ground pepper, salt, tomatoes, g...</td>\n",
       "      <td>[plain flour, ground pepper, salt, tomatoes, g...</td>\n",
       "    </tr>\n",
       "    <tr>\n",
       "      <th>2</th>\n",
       "      <td>20130</td>\n",
       "      <td>2</td>\n",
       "      <td>['eggs', 'pepper', 'salt', 'mayonaise', 'cooki...</td>\n",
       "      <td>172</td>\n",
       "      <td>12</td>\n",
       "      <td>[eggs, pepper, salt, mayonaise, cooking oil, g...</td>\n",
       "      <td>[eggs, pepper, salt, mayonaise, cooking oil, g...</td>\n",
       "    </tr>\n",
       "  </tbody>\n",
       "</table>\n",
       "</div>"
      ],
      "text/plain": [
       "      id  cuisine                                        ingredients  \\\n",
       "0  10259        0  ['romaine lettuce', 'black olives', 'grape tom...   \n",
       "1  25693        1  ['plain flour', 'ground pepper', 'salt', 'toma...   \n",
       "2  20130        2  ['eggs', 'pepper', 'salt', 'mayonaise', 'cooki...   \n",
       "\n",
       "   char_count  ingredient_count  \\\n",
       "0         144                 9   \n",
       "1         155                11   \n",
       "2         172                12   \n",
       "\n",
       "                                     ingredient_list  \\\n",
       "0  [romaine lettuce, black olives, grape tomatoes...   \n",
       "1  [plain flour, ground pepper, salt, tomatoes, g...   \n",
       "2  [eggs, pepper, salt, mayonaise, cooking oil, g...   \n",
       "\n",
       "                                    ingredient_lists  \n",
       "0  [romaine lettuce, black olives, grape tomatoes...  \n",
       "1  [plain flour, ground pepper, salt, tomatoes, g...  \n",
       "2  [eggs, pepper, salt, mayonaise, cooking oil, g...  "
      ]
     },
     "execution_count": 29,
     "metadata": {},
     "output_type": "execute_result"
    }
   ],
   "source": [
    "train.head(3)"
   ]
  },
  {
   "cell_type": "code",
   "execution_count": 30,
   "id": "d6a30a30-595c-4536-badd-f79840b437a2",
   "metadata": {},
   "outputs": [
    {
     "data": {
      "text/html": [
       "<div>\n",
       "<style scoped>\n",
       "    .dataframe tbody tr th:only-of-type {\n",
       "        vertical-align: middle;\n",
       "    }\n",
       "\n",
       "    .dataframe tbody tr th {\n",
       "        vertical-align: top;\n",
       "    }\n",
       "\n",
       "    .dataframe thead th {\n",
       "        text-align: right;\n",
       "    }\n",
       "</style>\n",
       "<table border=\"1\" class=\"dataframe\">\n",
       "  <thead>\n",
       "    <tr style=\"text-align: right;\">\n",
       "      <th></th>\n",
       "      <th>id</th>\n",
       "      <th>ingredients</th>\n",
       "      <th>char_count</th>\n",
       "      <th>ingredient_count</th>\n",
       "      <th>ingredient_list</th>\n",
       "      <th>ingredient_lists</th>\n",
       "    </tr>\n",
       "  </thead>\n",
       "  <tbody>\n",
       "    <tr>\n",
       "      <th>0</th>\n",
       "      <td>18009</td>\n",
       "      <td>['baking powder', 'eggs', 'all-purpose flour',...</td>\n",
       "      <td>80</td>\n",
       "      <td>6</td>\n",
       "      <td>[baking powder, eggs, all-purpose flour, raisi...</td>\n",
       "      <td>[baking powder, eggs, all-purpose flour, raisi...</td>\n",
       "    </tr>\n",
       "    <tr>\n",
       "      <th>1</th>\n",
       "      <td>28583</td>\n",
       "      <td>['sugar', 'egg yolks', 'corn starch', 'cream o...</td>\n",
       "      <td>157</td>\n",
       "      <td>11</td>\n",
       "      <td>[sugar, egg yolks, corn starch, cream of tarta...</td>\n",
       "      <td>[sugar, egg yolks, corn starch, cream of tarta...</td>\n",
       "    </tr>\n",
       "    <tr>\n",
       "      <th>2</th>\n",
       "      <td>41580</td>\n",
       "      <td>['sausage links', 'fennel bulb', 'fronds', 'ol...</td>\n",
       "      <td>82</td>\n",
       "      <td>6</td>\n",
       "      <td>[sausage links, fennel bulb, fronds, olive oil...</td>\n",
       "      <td>[sausage links, fennel bulb, fronds, olive oil...</td>\n",
       "    </tr>\n",
       "  </tbody>\n",
       "</table>\n",
       "</div>"
      ],
      "text/plain": [
       "      id                                        ingredients  char_count  \\\n",
       "0  18009  ['baking powder', 'eggs', 'all-purpose flour',...          80   \n",
       "1  28583  ['sugar', 'egg yolks', 'corn starch', 'cream o...         157   \n",
       "2  41580  ['sausage links', 'fennel bulb', 'fronds', 'ol...          82   \n",
       "\n",
       "   ingredient_count                                    ingredient_list  \\\n",
       "0                 6  [baking powder, eggs, all-purpose flour, raisi...   \n",
       "1                11  [sugar, egg yolks, corn starch, cream of tarta...   \n",
       "2                 6  [sausage links, fennel bulb, fronds, olive oil...   \n",
       "\n",
       "                                    ingredient_lists  \n",
       "0  [baking powder, eggs, all-purpose flour, raisi...  \n",
       "1  [sugar, egg yolks, corn starch, cream of tarta...  \n",
       "2  [sausage links, fennel bulb, fronds, olive oil...  "
      ]
     },
     "execution_count": 30,
     "metadata": {},
     "output_type": "execute_result"
    }
   ],
   "source": [
    "test.head(3)"
   ]
  },
  {
   "cell_type": "code",
   "execution_count": 58,
   "id": "566c440d-30ca-4e53-a0e5-e554b71e2983",
   "metadata": {},
   "outputs": [],
   "source": [
    "X_train = train.drop(columns=['ingredient_lists', 'cuisine', ''])\n",
    "X_test = test.drop(columns=['ingredient_lists'])"
   ]
  },
  {
   "cell_type": "code",
   "execution_count": 59,
   "id": "a6ff5410-3eb3-4b80-aefa-629f1d3dadf0",
   "metadata": {},
   "outputs": [
    {
     "data": {
      "text/plain": [
       "(39774, 5)"
      ]
     },
     "execution_count": 59,
     "metadata": {},
     "output_type": "execute_result"
    }
   ],
   "source": [
    "X_train.shape"
   ]
  },
  {
   "cell_type": "code",
   "execution_count": 60,
   "id": "2842bf10-b7f6-4260-962e-af2efb429bff",
   "metadata": {},
   "outputs": [
    {
     "data": {
      "text/plain": [
       "(9944, 5)"
      ]
     },
     "execution_count": 60,
     "metadata": {},
     "output_type": "execute_result"
    }
   ],
   "source": [
    "X_test.shape"
   ]
  },
  {
   "cell_type": "code",
   "execution_count": 61,
   "id": "77fdcfe7-c77c-4978-a61d-7e711f1a41e3",
   "metadata": {},
   "outputs": [
    {
     "data": {
      "text/plain": [
       "0    0\n",
       "1    1\n",
       "2    2\n",
       "3    3\n",
       "4    3\n",
       "Name: cuisine, dtype: int64"
      ]
     },
     "execution_count": 61,
     "metadata": {},
     "output_type": "execute_result"
    }
   ],
   "source": [
    "y_train = train['cuisine']\n",
    "y_train.head()"
   ]
  },
  {
   "cell_type": "code",
   "execution_count": 62,
   "id": "911368af-fbd5-41f5-a70f-98c162cdfacf",
   "metadata": {},
   "outputs": [
    {
     "data": {
      "text/plain": [
       "(39774,)"
      ]
     },
     "execution_count": 62,
     "metadata": {},
     "output_type": "execute_result"
    }
   ],
   "source": [
    "y_train.shape"
   ]
  },
  {
   "cell_type": "markdown",
   "id": "16b19497-6494-4101-9918-7e023f349195",
   "metadata": {
    "tags": []
   },
   "source": [
    "## Vectorize"
   ]
  },
  {
   "cell_type": "markdown",
   "id": "312c6ac7-88c6-469e-82d0-7f2d5ea8b056",
   "metadata": {
    "tags": []
   },
   "source": [
    "### Train"
   ]
  },
  {
   "cell_type": "code",
   "execution_count": 63,
   "id": "16b64fa7-c61a-4c79-a5b9-ad09564e4cf0",
   "metadata": {},
   "outputs": [
    {
     "data": {
      "text/plain": [
       "6847"
      ]
     },
     "execution_count": 63,
     "metadata": {},
     "output_type": "execute_result"
    }
   ],
   "source": [
    "len(train_vocab)"
   ]
  },
  {
   "cell_type": "code",
   "execution_count": 73,
   "id": "2893170d-208c-45fa-80fa-9e25ad2a26a3",
   "metadata": {},
   "outputs": [],
   "source": [
    "#creating a pipeline \n",
    "train_pipe = Pipeline([\n",
    "    ('cvec', CountVectorizer()),\n",
    "    ('bnb', MultinomialNB())\n",
    "])\n",
    "\n",
    "#Transformer pipe params \n",
    "train_pipe_params = {\n",
    "    'cvec__max_features': Integer(1, 4047)\n",
    "}\n",
    "\n",
    "#Instantiate GridSearchCV\n",
    "bs = BayesSearchCV(\n",
    "    estimator = train_pipe,\n",
    "    search_spaces = train_pipe_params, \n",
    "    cv = 5,\n",
    "    n_jobs = -1\n",
    ")"
   ]
  },
  {
   "cell_type": "code",
   "execution_count": 74,
   "id": "d7f254b7-405c-4008-81bc-682c0b7501b6",
   "metadata": {},
   "outputs": [
    {
     "data": {
      "text/plain": [
       "dict_keys(['memory', 'steps', 'verbose', 'cvec', 'bnb', 'cvec__analyzer', 'cvec__binary', 'cvec__decode_error', 'cvec__dtype', 'cvec__encoding', 'cvec__input', 'cvec__lowercase', 'cvec__max_df', 'cvec__max_features', 'cvec__min_df', 'cvec__ngram_range', 'cvec__preprocessor', 'cvec__stop_words', 'cvec__strip_accents', 'cvec__token_pattern', 'cvec__tokenizer', 'cvec__vocabulary', 'bnb__alpha', 'bnb__class_prior', 'bnb__fit_prior'])"
      ]
     },
     "execution_count": 74,
     "metadata": {},
     "output_type": "execute_result"
    }
   ],
   "source": [
    "bs.estimator.get_params().keys()"
   ]
  },
  {
   "cell_type": "code",
   "execution_count": 75,
   "id": "50a558b9-f364-4e36-9923-c15f440d5475",
   "metadata": {},
   "outputs": [
    {
     "ename": "ValueError",
     "evalue": "Found input variables with inconsistent numbers of samples: [1, 31819]",
     "output_type": "error",
     "traceback": [
      "\u001b[0;31m---------------------------------------------------------------------------\u001b[0m",
      "\u001b[0;31m_RemoteTraceback\u001b[0m                          Traceback (most recent call last)",
      "\u001b[0;31m_RemoteTraceback\u001b[0m: \n\"\"\"\nTraceback (most recent call last):\n  File \"/Users/kaitcrawford/opt/anaconda3/envs/dsi/lib/python3.9/site-packages/joblib/externals/loky/process_executor.py\", line 436, in _process_worker\n    r = call_item()\n  File \"/Users/kaitcrawford/opt/anaconda3/envs/dsi/lib/python3.9/site-packages/joblib/externals/loky/process_executor.py\", line 288, in __call__\n    return self.fn(*self.args, **self.kwargs)\n  File \"/Users/kaitcrawford/opt/anaconda3/envs/dsi/lib/python3.9/site-packages/joblib/_parallel_backends.py\", line 595, in __call__\n    return self.func(*args, **kwargs)\n  File \"/Users/kaitcrawford/opt/anaconda3/envs/dsi/lib/python3.9/site-packages/joblib/parallel.py\", line 262, in __call__\n    return [func(*args, **kwargs)\n  File \"/Users/kaitcrawford/opt/anaconda3/envs/dsi/lib/python3.9/site-packages/joblib/parallel.py\", line 262, in <listcomp>\n    return [func(*args, **kwargs)\n  File \"/Users/kaitcrawford/opt/anaconda3/envs/dsi/lib/python3.9/site-packages/sklearn/utils/fixes.py\", line 216, in __call__\n    return self.function(*args, **kwargs)\n  File \"/Users/kaitcrawford/opt/anaconda3/envs/dsi/lib/python3.9/site-packages/sklearn/model_selection/_validation.py\", line 680, in _fit_and_score\n    estimator.fit(X_train, y_train, **fit_params)\n  File \"/Users/kaitcrawford/opt/anaconda3/envs/dsi/lib/python3.9/site-packages/sklearn/pipeline.py\", line 394, in fit\n    self._final_estimator.fit(Xt, y, **fit_params_last_step)\n  File \"/Users/kaitcrawford/opt/anaconda3/envs/dsi/lib/python3.9/site-packages/sklearn/naive_bayes.py\", line 663, in fit\n    X, y = self._check_X_y(X, y)\n  File \"/Users/kaitcrawford/opt/anaconda3/envs/dsi/lib/python3.9/site-packages/sklearn/naive_bayes.py\", line 523, in _check_X_y\n    return self._validate_data(X, y, accept_sparse=\"csr\", reset=reset)\n  File \"/Users/kaitcrawford/opt/anaconda3/envs/dsi/lib/python3.9/site-packages/sklearn/base.py\", line 581, in _validate_data\n    X, y = check_X_y(X, y, **check_params)\n  File \"/Users/kaitcrawford/opt/anaconda3/envs/dsi/lib/python3.9/site-packages/sklearn/utils/validation.py\", line 981, in check_X_y\n    check_consistent_length(X, y)\n  File \"/Users/kaitcrawford/opt/anaconda3/envs/dsi/lib/python3.9/site-packages/sklearn/utils/validation.py\", line 332, in check_consistent_length\n    raise ValueError(\nValueError: Found input variables with inconsistent numbers of samples: [1, 31819]\n\"\"\"",
      "\nThe above exception was the direct cause of the following exception:\n",
      "\u001b[0;31mValueError\u001b[0m                                Traceback (most recent call last)",
      "\u001b[0;32m/var/folders/7l/441dnk_52sgfldpwf_5_7dmr0000gn/T/ipykernel_27289/1200649082.py\u001b[0m in \u001b[0;36m<module>\u001b[0;34m\u001b[0m\n\u001b[0;32m----> 1\u001b[0;31m \u001b[0mbs\u001b[0m\u001b[0;34m.\u001b[0m\u001b[0mfit\u001b[0m\u001b[0;34m(\u001b[0m\u001b[0mtrain\u001b[0m\u001b[0;34m[\u001b[0m\u001b[0;34m[\u001b[0m\u001b[0;34m'ingredient_list'\u001b[0m\u001b[0;34m]\u001b[0m\u001b[0;34m]\u001b[0m\u001b[0;34m,\u001b[0m \u001b[0my_train\u001b[0m\u001b[0;34m)\u001b[0m\u001b[0;34m\u001b[0m\u001b[0;34m\u001b[0m\u001b[0m\n\u001b[0m",
      "\u001b[0;32m~/opt/anaconda3/envs/dsi/lib/python3.9/site-packages/skopt/searchcv.py\u001b[0m in \u001b[0;36mfit\u001b[0;34m(self, X, y, groups, callback, **fit_params)\u001b[0m\n\u001b[1;32m    464\u001b[0m             \u001b[0mself\u001b[0m\u001b[0;34m.\u001b[0m\u001b[0moptimizer_kwargs_\u001b[0m \u001b[0;34m=\u001b[0m \u001b[0mdict\u001b[0m\u001b[0;34m(\u001b[0m\u001b[0mself\u001b[0m\u001b[0;34m.\u001b[0m\u001b[0moptimizer_kwargs\u001b[0m\u001b[0;34m)\u001b[0m\u001b[0;34m\u001b[0m\u001b[0;34m\u001b[0m\u001b[0m\n\u001b[1;32m    465\u001b[0m \u001b[0;34m\u001b[0m\u001b[0m\n\u001b[0;32m--> 466\u001b[0;31m         \u001b[0msuper\u001b[0m\u001b[0;34m(\u001b[0m\u001b[0;34m)\u001b[0m\u001b[0;34m.\u001b[0m\u001b[0mfit\u001b[0m\u001b[0;34m(\u001b[0m\u001b[0mX\u001b[0m\u001b[0;34m=\u001b[0m\u001b[0mX\u001b[0m\u001b[0;34m,\u001b[0m \u001b[0my\u001b[0m\u001b[0;34m=\u001b[0m\u001b[0my\u001b[0m\u001b[0;34m,\u001b[0m \u001b[0mgroups\u001b[0m\u001b[0;34m=\u001b[0m\u001b[0mgroups\u001b[0m\u001b[0;34m,\u001b[0m \u001b[0;34m**\u001b[0m\u001b[0mfit_params\u001b[0m\u001b[0;34m)\u001b[0m\u001b[0;34m\u001b[0m\u001b[0;34m\u001b[0m\u001b[0m\n\u001b[0m\u001b[1;32m    467\u001b[0m \u001b[0;34m\u001b[0m\u001b[0m\n\u001b[1;32m    468\u001b[0m         \u001b[0;31m# BaseSearchCV never ranked train scores,\u001b[0m\u001b[0;34m\u001b[0m\u001b[0;34m\u001b[0m\u001b[0m\n",
      "\u001b[0;32m~/opt/anaconda3/envs/dsi/lib/python3.9/site-packages/sklearn/model_selection/_search.py\u001b[0m in \u001b[0;36mfit\u001b[0;34m(self, X, y, groups, **fit_params)\u001b[0m\n\u001b[1;32m    889\u001b[0m                 \u001b[0;32mreturn\u001b[0m \u001b[0mresults\u001b[0m\u001b[0;34m\u001b[0m\u001b[0;34m\u001b[0m\u001b[0m\n\u001b[1;32m    890\u001b[0m \u001b[0;34m\u001b[0m\u001b[0m\n\u001b[0;32m--> 891\u001b[0;31m             \u001b[0mself\u001b[0m\u001b[0;34m.\u001b[0m\u001b[0m_run_search\u001b[0m\u001b[0;34m(\u001b[0m\u001b[0mevaluate_candidates\u001b[0m\u001b[0;34m)\u001b[0m\u001b[0;34m\u001b[0m\u001b[0;34m\u001b[0m\u001b[0m\n\u001b[0m\u001b[1;32m    892\u001b[0m \u001b[0;34m\u001b[0m\u001b[0m\n\u001b[1;32m    893\u001b[0m             \u001b[0;31m# multimetric is determined here because in the case of a callable\u001b[0m\u001b[0;34m\u001b[0m\u001b[0;34m\u001b[0m\u001b[0m\n",
      "\u001b[0;32m~/opt/anaconda3/envs/dsi/lib/python3.9/site-packages/skopt/searchcv.py\u001b[0m in \u001b[0;36m_run_search\u001b[0;34m(self, evaluate_candidates)\u001b[0m\n\u001b[1;32m    510\u001b[0m                 \u001b[0mn_points_adjusted\u001b[0m \u001b[0;34m=\u001b[0m \u001b[0mmin\u001b[0m\u001b[0;34m(\u001b[0m\u001b[0mn_iter\u001b[0m\u001b[0;34m,\u001b[0m \u001b[0mn_points\u001b[0m\u001b[0;34m)\u001b[0m\u001b[0;34m\u001b[0m\u001b[0;34m\u001b[0m\u001b[0m\n\u001b[1;32m    511\u001b[0m \u001b[0;34m\u001b[0m\u001b[0m\n\u001b[0;32m--> 512\u001b[0;31m                 optim_result = self._step(\n\u001b[0m\u001b[1;32m    513\u001b[0m                     \u001b[0msearch_space\u001b[0m\u001b[0;34m,\u001b[0m \u001b[0moptimizer\u001b[0m\u001b[0;34m,\u001b[0m\u001b[0;34m\u001b[0m\u001b[0;34m\u001b[0m\u001b[0m\n\u001b[1;32m    514\u001b[0m                     \u001b[0mevaluate_candidates\u001b[0m\u001b[0;34m,\u001b[0m \u001b[0mn_points\u001b[0m\u001b[0;34m=\u001b[0m\u001b[0mn_points_adjusted\u001b[0m\u001b[0;34m\u001b[0m\u001b[0;34m\u001b[0m\u001b[0m\n",
      "\u001b[0;32m~/opt/anaconda3/envs/dsi/lib/python3.9/site-packages/skopt/searchcv.py\u001b[0m in \u001b[0;36m_step\u001b[0;34m(self, search_space, optimizer, evaluate_candidates, n_points)\u001b[0m\n\u001b[1;32m    406\u001b[0m         \u001b[0mparams_dict\u001b[0m \u001b[0;34m=\u001b[0m \u001b[0;34m[\u001b[0m\u001b[0mpoint_asdict\u001b[0m\u001b[0;34m(\u001b[0m\u001b[0msearch_space\u001b[0m\u001b[0;34m,\u001b[0m \u001b[0mp\u001b[0m\u001b[0;34m)\u001b[0m \u001b[0;32mfor\u001b[0m \u001b[0mp\u001b[0m \u001b[0;32min\u001b[0m \u001b[0mparams\u001b[0m\u001b[0;34m]\u001b[0m\u001b[0;34m\u001b[0m\u001b[0;34m\u001b[0m\u001b[0m\n\u001b[1;32m    407\u001b[0m \u001b[0;34m\u001b[0m\u001b[0m\n\u001b[0;32m--> 408\u001b[0;31m         \u001b[0mall_results\u001b[0m \u001b[0;34m=\u001b[0m \u001b[0mevaluate_candidates\u001b[0m\u001b[0;34m(\u001b[0m\u001b[0mparams_dict\u001b[0m\u001b[0;34m)\u001b[0m\u001b[0;34m\u001b[0m\u001b[0;34m\u001b[0m\u001b[0m\n\u001b[0m\u001b[1;32m    409\u001b[0m         \u001b[0;31m# Feed the point and objective value back into optimizer\u001b[0m\u001b[0;34m\u001b[0m\u001b[0;34m\u001b[0m\u001b[0m\n\u001b[1;32m    410\u001b[0m         \u001b[0;31m# Optimizer minimizes objective, hence provide negative score\u001b[0m\u001b[0;34m\u001b[0m\u001b[0;34m\u001b[0m\u001b[0m\n",
      "\u001b[0;32m~/opt/anaconda3/envs/dsi/lib/python3.9/site-packages/sklearn/model_selection/_search.py\u001b[0m in \u001b[0;36mevaluate_candidates\u001b[0;34m(candidate_params, cv, more_results)\u001b[0m\n\u001b[1;32m    836\u001b[0m                     )\n\u001b[1;32m    837\u001b[0m \u001b[0;34m\u001b[0m\u001b[0m\n\u001b[0;32m--> 838\u001b[0;31m                 out = parallel(\n\u001b[0m\u001b[1;32m    839\u001b[0m                     delayed(_fit_and_score)(\n\u001b[1;32m    840\u001b[0m                         \u001b[0mclone\u001b[0m\u001b[0;34m(\u001b[0m\u001b[0mbase_estimator\u001b[0m\u001b[0;34m)\u001b[0m\u001b[0;34m,\u001b[0m\u001b[0;34m\u001b[0m\u001b[0;34m\u001b[0m\u001b[0m\n",
      "\u001b[0;32m~/opt/anaconda3/envs/dsi/lib/python3.9/site-packages/joblib/parallel.py\u001b[0m in \u001b[0;36m__call__\u001b[0;34m(self, iterable)\u001b[0m\n\u001b[1;32m   1054\u001b[0m \u001b[0;34m\u001b[0m\u001b[0m\n\u001b[1;32m   1055\u001b[0m             \u001b[0;32mwith\u001b[0m \u001b[0mself\u001b[0m\u001b[0;34m.\u001b[0m\u001b[0m_backend\u001b[0m\u001b[0;34m.\u001b[0m\u001b[0mretrieval_context\u001b[0m\u001b[0;34m(\u001b[0m\u001b[0;34m)\u001b[0m\u001b[0;34m:\u001b[0m\u001b[0;34m\u001b[0m\u001b[0;34m\u001b[0m\u001b[0m\n\u001b[0;32m-> 1056\u001b[0;31m                 \u001b[0mself\u001b[0m\u001b[0;34m.\u001b[0m\u001b[0mretrieve\u001b[0m\u001b[0;34m(\u001b[0m\u001b[0;34m)\u001b[0m\u001b[0;34m\u001b[0m\u001b[0;34m\u001b[0m\u001b[0m\n\u001b[0m\u001b[1;32m   1057\u001b[0m             \u001b[0;31m# Make sure that we get a last message telling us we are done\u001b[0m\u001b[0;34m\u001b[0m\u001b[0;34m\u001b[0m\u001b[0m\n\u001b[1;32m   1058\u001b[0m             \u001b[0melapsed_time\u001b[0m \u001b[0;34m=\u001b[0m \u001b[0mtime\u001b[0m\u001b[0;34m.\u001b[0m\u001b[0mtime\u001b[0m\u001b[0;34m(\u001b[0m\u001b[0;34m)\u001b[0m \u001b[0;34m-\u001b[0m \u001b[0mself\u001b[0m\u001b[0;34m.\u001b[0m\u001b[0m_start_time\u001b[0m\u001b[0;34m\u001b[0m\u001b[0;34m\u001b[0m\u001b[0m\n",
      "\u001b[0;32m~/opt/anaconda3/envs/dsi/lib/python3.9/site-packages/joblib/parallel.py\u001b[0m in \u001b[0;36mretrieve\u001b[0;34m(self)\u001b[0m\n\u001b[1;32m    933\u001b[0m             \u001b[0;32mtry\u001b[0m\u001b[0;34m:\u001b[0m\u001b[0;34m\u001b[0m\u001b[0;34m\u001b[0m\u001b[0m\n\u001b[1;32m    934\u001b[0m                 \u001b[0;32mif\u001b[0m \u001b[0mgetattr\u001b[0m\u001b[0;34m(\u001b[0m\u001b[0mself\u001b[0m\u001b[0;34m.\u001b[0m\u001b[0m_backend\u001b[0m\u001b[0;34m,\u001b[0m \u001b[0;34m'supports_timeout'\u001b[0m\u001b[0;34m,\u001b[0m \u001b[0;32mFalse\u001b[0m\u001b[0;34m)\u001b[0m\u001b[0;34m:\u001b[0m\u001b[0;34m\u001b[0m\u001b[0;34m\u001b[0m\u001b[0m\n\u001b[0;32m--> 935\u001b[0;31m                     \u001b[0mself\u001b[0m\u001b[0;34m.\u001b[0m\u001b[0m_output\u001b[0m\u001b[0;34m.\u001b[0m\u001b[0mextend\u001b[0m\u001b[0;34m(\u001b[0m\u001b[0mjob\u001b[0m\u001b[0;34m.\u001b[0m\u001b[0mget\u001b[0m\u001b[0;34m(\u001b[0m\u001b[0mtimeout\u001b[0m\u001b[0;34m=\u001b[0m\u001b[0mself\u001b[0m\u001b[0;34m.\u001b[0m\u001b[0mtimeout\u001b[0m\u001b[0;34m)\u001b[0m\u001b[0;34m)\u001b[0m\u001b[0;34m\u001b[0m\u001b[0;34m\u001b[0m\u001b[0m\n\u001b[0m\u001b[1;32m    936\u001b[0m                 \u001b[0;32melse\u001b[0m\u001b[0;34m:\u001b[0m\u001b[0;34m\u001b[0m\u001b[0;34m\u001b[0m\u001b[0m\n\u001b[1;32m    937\u001b[0m                     \u001b[0mself\u001b[0m\u001b[0;34m.\u001b[0m\u001b[0m_output\u001b[0m\u001b[0;34m.\u001b[0m\u001b[0mextend\u001b[0m\u001b[0;34m(\u001b[0m\u001b[0mjob\u001b[0m\u001b[0;34m.\u001b[0m\u001b[0mget\u001b[0m\u001b[0;34m(\u001b[0m\u001b[0;34m)\u001b[0m\u001b[0;34m)\u001b[0m\u001b[0;34m\u001b[0m\u001b[0;34m\u001b[0m\u001b[0m\n",
      "\u001b[0;32m~/opt/anaconda3/envs/dsi/lib/python3.9/site-packages/joblib/_parallel_backends.py\u001b[0m in \u001b[0;36mwrap_future_result\u001b[0;34m(future, timeout)\u001b[0m\n\u001b[1;32m    540\u001b[0m         AsyncResults.get from multiprocessing.\"\"\"\n\u001b[1;32m    541\u001b[0m         \u001b[0;32mtry\u001b[0m\u001b[0;34m:\u001b[0m\u001b[0;34m\u001b[0m\u001b[0;34m\u001b[0m\u001b[0m\n\u001b[0;32m--> 542\u001b[0;31m             \u001b[0;32mreturn\u001b[0m \u001b[0mfuture\u001b[0m\u001b[0;34m.\u001b[0m\u001b[0mresult\u001b[0m\u001b[0;34m(\u001b[0m\u001b[0mtimeout\u001b[0m\u001b[0;34m=\u001b[0m\u001b[0mtimeout\u001b[0m\u001b[0;34m)\u001b[0m\u001b[0;34m\u001b[0m\u001b[0;34m\u001b[0m\u001b[0m\n\u001b[0m\u001b[1;32m    543\u001b[0m         \u001b[0;32mexcept\u001b[0m \u001b[0mCfTimeoutError\u001b[0m \u001b[0;32mas\u001b[0m \u001b[0me\u001b[0m\u001b[0;34m:\u001b[0m\u001b[0;34m\u001b[0m\u001b[0;34m\u001b[0m\u001b[0m\n\u001b[1;32m    544\u001b[0m             \u001b[0;32mraise\u001b[0m \u001b[0mTimeoutError\u001b[0m \u001b[0;32mfrom\u001b[0m \u001b[0me\u001b[0m\u001b[0;34m\u001b[0m\u001b[0;34m\u001b[0m\u001b[0m\n",
      "\u001b[0;32m~/opt/anaconda3/envs/dsi/lib/python3.9/concurrent/futures/_base.py\u001b[0m in \u001b[0;36mresult\u001b[0;34m(self, timeout)\u001b[0m\n\u001b[1;32m    443\u001b[0m                     \u001b[0;32mraise\u001b[0m \u001b[0mCancelledError\u001b[0m\u001b[0;34m(\u001b[0m\u001b[0;34m)\u001b[0m\u001b[0;34m\u001b[0m\u001b[0;34m\u001b[0m\u001b[0m\n\u001b[1;32m    444\u001b[0m                 \u001b[0;32melif\u001b[0m \u001b[0mself\u001b[0m\u001b[0;34m.\u001b[0m\u001b[0m_state\u001b[0m \u001b[0;34m==\u001b[0m \u001b[0mFINISHED\u001b[0m\u001b[0;34m:\u001b[0m\u001b[0;34m\u001b[0m\u001b[0;34m\u001b[0m\u001b[0m\n\u001b[0;32m--> 445\u001b[0;31m                     \u001b[0;32mreturn\u001b[0m \u001b[0mself\u001b[0m\u001b[0;34m.\u001b[0m\u001b[0m__get_result\u001b[0m\u001b[0;34m(\u001b[0m\u001b[0;34m)\u001b[0m\u001b[0;34m\u001b[0m\u001b[0;34m\u001b[0m\u001b[0m\n\u001b[0m\u001b[1;32m    446\u001b[0m                 \u001b[0;32melse\u001b[0m\u001b[0;34m:\u001b[0m\u001b[0;34m\u001b[0m\u001b[0;34m\u001b[0m\u001b[0m\n\u001b[1;32m    447\u001b[0m                     \u001b[0;32mraise\u001b[0m \u001b[0mTimeoutError\u001b[0m\u001b[0;34m(\u001b[0m\u001b[0;34m)\u001b[0m\u001b[0;34m\u001b[0m\u001b[0;34m\u001b[0m\u001b[0m\n",
      "\u001b[0;32m~/opt/anaconda3/envs/dsi/lib/python3.9/concurrent/futures/_base.py\u001b[0m in \u001b[0;36m__get_result\u001b[0;34m(self)\u001b[0m\n\u001b[1;32m    388\u001b[0m         \u001b[0;32mif\u001b[0m \u001b[0mself\u001b[0m\u001b[0;34m.\u001b[0m\u001b[0m_exception\u001b[0m\u001b[0;34m:\u001b[0m\u001b[0;34m\u001b[0m\u001b[0;34m\u001b[0m\u001b[0m\n\u001b[1;32m    389\u001b[0m             \u001b[0;32mtry\u001b[0m\u001b[0;34m:\u001b[0m\u001b[0;34m\u001b[0m\u001b[0;34m\u001b[0m\u001b[0m\n\u001b[0;32m--> 390\u001b[0;31m                 \u001b[0;32mraise\u001b[0m \u001b[0mself\u001b[0m\u001b[0;34m.\u001b[0m\u001b[0m_exception\u001b[0m\u001b[0;34m\u001b[0m\u001b[0;34m\u001b[0m\u001b[0m\n\u001b[0m\u001b[1;32m    391\u001b[0m             \u001b[0;32mfinally\u001b[0m\u001b[0;34m:\u001b[0m\u001b[0;34m\u001b[0m\u001b[0;34m\u001b[0m\u001b[0m\n\u001b[1;32m    392\u001b[0m                 \u001b[0;31m# Break a reference cycle with the exception in self._exception\u001b[0m\u001b[0;34m\u001b[0m\u001b[0;34m\u001b[0m\u001b[0m\n",
      "\u001b[0;31mValueError\u001b[0m: Found input variables with inconsistent numbers of samples: [1, 31819]"
     ]
    }
   ],
   "source": [
    "bs.fit(train[['ingredient_list']], y_train)"
   ]
  },
  {
   "cell_type": "code",
   "execution_count": null,
   "id": "c89e4653-4028-430e-ae8e-9c035db0fbbc",
   "metadata": {},
   "outputs": [],
   "source": []
  },
  {
   "cell_type": "code",
   "execution_count": 38,
   "id": "6642b4ac-c243-422a-813d-eace911c7e88",
   "metadata": {},
   "outputs": [
    {
     "name": "stderr",
     "output_type": "stream",
     "text": [
      "/Users/kaitcrawford/opt/anaconda3/lib/python3.9/site-packages/sklearn/feature_extraction/text.py:1322: UserWarning: Upper case characters found in vocabulary while 'lowercase' is True. These entries will not be matched with any documents\n",
      "  warnings.warn(\n"
     ]
    }
   ],
   "source": [
    "train_matrix = train_cvec.fit_transform(X_train['ingredients'])"
   ]
  },
  {
   "cell_type": "code",
   "execution_count": 39,
   "id": "b01a817b-7d83-4e00-ba59-48d1fafe9a03",
   "metadata": {},
   "outputs": [
    {
     "name": "stderr",
     "output_type": "stream",
     "text": [
      "/Users/kaitcrawford/opt/anaconda3/lib/python3.9/site-packages/sklearn/utils/deprecation.py:87: FutureWarning: Function get_feature_names is deprecated; get_feature_names is deprecated in 1.0 and will be removed in 1.2. Please use get_feature_names_out instead.\n",
      "  warnings.warn(msg, category=FutureWarning)\n"
     ]
    }
   ],
   "source": [
    "train_df = pd.DataFrame(train_matrix.todense(), columns=train_cvec.get_feature_names())"
   ]
  },
  {
   "cell_type": "code",
   "execution_count": 40,
   "id": "7a18e316-67c5-47d9-9ee2-f8ffb574f24d",
   "metadata": {},
   "outputs": [
    {
     "data": {
      "text/html": [
       "<div>\n",
       "<style scoped>\n",
       "    .dataframe tbody tr th:only-of-type {\n",
       "        vertical-align: middle;\n",
       "    }\n",
       "\n",
       "    .dataframe tbody tr th {\n",
       "        vertical-align: top;\n",
       "    }\n",
       "\n",
       "    .dataframe thead th {\n",
       "        text-align: right;\n",
       "    }\n",
       "</style>\n",
       "<table border=\"1\" class=\"dataframe\">\n",
       "  <thead>\n",
       "    <tr style=\"text-align: right;\">\n",
       "      <th></th>\n",
       "      <th>romaine lettuce</th>\n",
       "      <th>black olives</th>\n",
       "      <th>grape tomatoes</th>\n",
       "      <th>garlic</th>\n",
       "      <th>pepper</th>\n",
       "      <th>purple onion</th>\n",
       "      <th>seasoning</th>\n",
       "      <th>garbanzo beans</th>\n",
       "      <th>feta cheese crumbles</th>\n",
       "      <th>plain flour</th>\n",
       "      <th>...</th>\n",
       "      <th>Oscar Mayer Cotto Salami</th>\n",
       "      <th>Challenge Butter</th>\n",
       "      <th>orange glaze</th>\n",
       "      <th>cholesterol free egg substitute</th>\n",
       "      <th>ciabatta loaf</th>\n",
       "      <th>Lipton® Iced Tea Brew Family Size Tea Bags</th>\n",
       "      <th>Hidden Valley® Greek Yogurt Original Ranch® Dip Mix</th>\n",
       "      <th>lop chong</th>\n",
       "      <th>tomato garlic pasta sauce</th>\n",
       "      <th>crushed cheese crackers</th>\n",
       "    </tr>\n",
       "  </thead>\n",
       "  <tbody>\n",
       "    <tr>\n",
       "      <th>0</th>\n",
       "      <td>0</td>\n",
       "      <td>0</td>\n",
       "      <td>0</td>\n",
       "      <td>1</td>\n",
       "      <td>1</td>\n",
       "      <td>0</td>\n",
       "      <td>1</td>\n",
       "      <td>0</td>\n",
       "      <td>0</td>\n",
       "      <td>0</td>\n",
       "      <td>...</td>\n",
       "      <td>0</td>\n",
       "      <td>0</td>\n",
       "      <td>0</td>\n",
       "      <td>0</td>\n",
       "      <td>0</td>\n",
       "      <td>0</td>\n",
       "      <td>0</td>\n",
       "      <td>0</td>\n",
       "      <td>0</td>\n",
       "      <td>0</td>\n",
       "    </tr>\n",
       "    <tr>\n",
       "      <th>1</th>\n",
       "      <td>0</td>\n",
       "      <td>0</td>\n",
       "      <td>0</td>\n",
       "      <td>0</td>\n",
       "      <td>2</td>\n",
       "      <td>0</td>\n",
       "      <td>0</td>\n",
       "      <td>0</td>\n",
       "      <td>0</td>\n",
       "      <td>0</td>\n",
       "      <td>...</td>\n",
       "      <td>0</td>\n",
       "      <td>0</td>\n",
       "      <td>0</td>\n",
       "      <td>0</td>\n",
       "      <td>0</td>\n",
       "      <td>0</td>\n",
       "      <td>0</td>\n",
       "      <td>0</td>\n",
       "      <td>0</td>\n",
       "      <td>0</td>\n",
       "    </tr>\n",
       "    <tr>\n",
       "      <th>2</th>\n",
       "      <td>0</td>\n",
       "      <td>0</td>\n",
       "      <td>0</td>\n",
       "      <td>1</td>\n",
       "      <td>1</td>\n",
       "      <td>0</td>\n",
       "      <td>0</td>\n",
       "      <td>0</td>\n",
       "      <td>0</td>\n",
       "      <td>0</td>\n",
       "      <td>...</td>\n",
       "      <td>0</td>\n",
       "      <td>0</td>\n",
       "      <td>0</td>\n",
       "      <td>0</td>\n",
       "      <td>0</td>\n",
       "      <td>0</td>\n",
       "      <td>0</td>\n",
       "      <td>0</td>\n",
       "      <td>0</td>\n",
       "      <td>0</td>\n",
       "    </tr>\n",
       "    <tr>\n",
       "      <th>3</th>\n",
       "      <td>0</td>\n",
       "      <td>0</td>\n",
       "      <td>0</td>\n",
       "      <td>0</td>\n",
       "      <td>0</td>\n",
       "      <td>0</td>\n",
       "      <td>0</td>\n",
       "      <td>0</td>\n",
       "      <td>0</td>\n",
       "      <td>0</td>\n",
       "      <td>...</td>\n",
       "      <td>0</td>\n",
       "      <td>0</td>\n",
       "      <td>0</td>\n",
       "      <td>0</td>\n",
       "      <td>0</td>\n",
       "      <td>0</td>\n",
       "      <td>0</td>\n",
       "      <td>0</td>\n",
       "      <td>0</td>\n",
       "      <td>0</td>\n",
       "    </tr>\n",
       "    <tr>\n",
       "      <th>4</th>\n",
       "      <td>0</td>\n",
       "      <td>0</td>\n",
       "      <td>0</td>\n",
       "      <td>1</td>\n",
       "      <td>2</td>\n",
       "      <td>0</td>\n",
       "      <td>0</td>\n",
       "      <td>0</td>\n",
       "      <td>0</td>\n",
       "      <td>0</td>\n",
       "      <td>...</td>\n",
       "      <td>0</td>\n",
       "      <td>0</td>\n",
       "      <td>0</td>\n",
       "      <td>0</td>\n",
       "      <td>0</td>\n",
       "      <td>0</td>\n",
       "      <td>0</td>\n",
       "      <td>0</td>\n",
       "      <td>0</td>\n",
       "      <td>0</td>\n",
       "    </tr>\n",
       "    <tr>\n",
       "      <th>...</th>\n",
       "      <td>...</td>\n",
       "      <td>...</td>\n",
       "      <td>...</td>\n",
       "      <td>...</td>\n",
       "      <td>...</td>\n",
       "      <td>...</td>\n",
       "      <td>...</td>\n",
       "      <td>...</td>\n",
       "      <td>...</td>\n",
       "      <td>...</td>\n",
       "      <td>...</td>\n",
       "      <td>...</td>\n",
       "      <td>...</td>\n",
       "      <td>...</td>\n",
       "      <td>...</td>\n",
       "      <td>...</td>\n",
       "      <td>...</td>\n",
       "      <td>...</td>\n",
       "      <td>...</td>\n",
       "      <td>...</td>\n",
       "      <td>...</td>\n",
       "    </tr>\n",
       "    <tr>\n",
       "      <th>39769</th>\n",
       "      <td>0</td>\n",
       "      <td>0</td>\n",
       "      <td>0</td>\n",
       "      <td>0</td>\n",
       "      <td>0</td>\n",
       "      <td>0</td>\n",
       "      <td>0</td>\n",
       "      <td>0</td>\n",
       "      <td>0</td>\n",
       "      <td>0</td>\n",
       "      <td>...</td>\n",
       "      <td>0</td>\n",
       "      <td>0</td>\n",
       "      <td>0</td>\n",
       "      <td>0</td>\n",
       "      <td>0</td>\n",
       "      <td>0</td>\n",
       "      <td>0</td>\n",
       "      <td>0</td>\n",
       "      <td>0</td>\n",
       "      <td>0</td>\n",
       "    </tr>\n",
       "    <tr>\n",
       "      <th>39770</th>\n",
       "      <td>0</td>\n",
       "      <td>0</td>\n",
       "      <td>0</td>\n",
       "      <td>0</td>\n",
       "      <td>1</td>\n",
       "      <td>0</td>\n",
       "      <td>0</td>\n",
       "      <td>0</td>\n",
       "      <td>0</td>\n",
       "      <td>0</td>\n",
       "      <td>...</td>\n",
       "      <td>0</td>\n",
       "      <td>0</td>\n",
       "      <td>0</td>\n",
       "      <td>0</td>\n",
       "      <td>0</td>\n",
       "      <td>0</td>\n",
       "      <td>0</td>\n",
       "      <td>0</td>\n",
       "      <td>0</td>\n",
       "      <td>0</td>\n",
       "    </tr>\n",
       "    <tr>\n",
       "      <th>39771</th>\n",
       "      <td>0</td>\n",
       "      <td>0</td>\n",
       "      <td>0</td>\n",
       "      <td>0</td>\n",
       "      <td>0</td>\n",
       "      <td>0</td>\n",
       "      <td>0</td>\n",
       "      <td>0</td>\n",
       "      <td>0</td>\n",
       "      <td>0</td>\n",
       "      <td>...</td>\n",
       "      <td>0</td>\n",
       "      <td>0</td>\n",
       "      <td>0</td>\n",
       "      <td>0</td>\n",
       "      <td>0</td>\n",
       "      <td>0</td>\n",
       "      <td>0</td>\n",
       "      <td>0</td>\n",
       "      <td>0</td>\n",
       "      <td>0</td>\n",
       "    </tr>\n",
       "    <tr>\n",
       "      <th>39772</th>\n",
       "      <td>0</td>\n",
       "      <td>0</td>\n",
       "      <td>0</td>\n",
       "      <td>1</td>\n",
       "      <td>0</td>\n",
       "      <td>0</td>\n",
       "      <td>0</td>\n",
       "      <td>0</td>\n",
       "      <td>0</td>\n",
       "      <td>0</td>\n",
       "      <td>...</td>\n",
       "      <td>0</td>\n",
       "      <td>0</td>\n",
       "      <td>0</td>\n",
       "      <td>0</td>\n",
       "      <td>0</td>\n",
       "      <td>0</td>\n",
       "      <td>0</td>\n",
       "      <td>0</td>\n",
       "      <td>0</td>\n",
       "      <td>0</td>\n",
       "    </tr>\n",
       "    <tr>\n",
       "      <th>39773</th>\n",
       "      <td>0</td>\n",
       "      <td>0</td>\n",
       "      <td>0</td>\n",
       "      <td>1</td>\n",
       "      <td>2</td>\n",
       "      <td>0</td>\n",
       "      <td>0</td>\n",
       "      <td>0</td>\n",
       "      <td>0</td>\n",
       "      <td>0</td>\n",
       "      <td>...</td>\n",
       "      <td>0</td>\n",
       "      <td>0</td>\n",
       "      <td>0</td>\n",
       "      <td>0</td>\n",
       "      <td>0</td>\n",
       "      <td>0</td>\n",
       "      <td>0</td>\n",
       "      <td>0</td>\n",
       "      <td>0</td>\n",
       "      <td>0</td>\n",
       "    </tr>\n",
       "  </tbody>\n",
       "</table>\n",
       "<p>39774 rows × 6847 columns</p>\n",
       "</div>"
      ],
      "text/plain": [
       "       romaine lettuce  black olives  grape tomatoes  garlic  pepper  \\\n",
       "0                    0             0               0       1       1   \n",
       "1                    0             0               0       0       2   \n",
       "2                    0             0               0       1       1   \n",
       "3                    0             0               0       0       0   \n",
       "4                    0             0               0       1       2   \n",
       "...                ...           ...             ...     ...     ...   \n",
       "39769                0             0               0       0       0   \n",
       "39770                0             0               0       0       1   \n",
       "39771                0             0               0       0       0   \n",
       "39772                0             0               0       1       0   \n",
       "39773                0             0               0       1       2   \n",
       "\n",
       "       purple onion  seasoning  garbanzo beans  feta cheese crumbles  \\\n",
       "0                 0          1               0                     0   \n",
       "1                 0          0               0                     0   \n",
       "2                 0          0               0                     0   \n",
       "3                 0          0               0                     0   \n",
       "4                 0          0               0                     0   \n",
       "...             ...        ...             ...                   ...   \n",
       "39769             0          0               0                     0   \n",
       "39770             0          0               0                     0   \n",
       "39771             0          0               0                     0   \n",
       "39772             0          0               0                     0   \n",
       "39773             0          0               0                     0   \n",
       "\n",
       "       plain flour  ...  Oscar Mayer Cotto Salami  Challenge Butter  \\\n",
       "0                0  ...                         0                 0   \n",
       "1                0  ...                         0                 0   \n",
       "2                0  ...                         0                 0   \n",
       "3                0  ...                         0                 0   \n",
       "4                0  ...                         0                 0   \n",
       "...            ...  ...                       ...               ...   \n",
       "39769            0  ...                         0                 0   \n",
       "39770            0  ...                         0                 0   \n",
       "39771            0  ...                         0                 0   \n",
       "39772            0  ...                         0                 0   \n",
       "39773            0  ...                         0                 0   \n",
       "\n",
       "       orange glaze  cholesterol free egg substitute  ciabatta loaf  \\\n",
       "0                 0                                0              0   \n",
       "1                 0                                0              0   \n",
       "2                 0                                0              0   \n",
       "3                 0                                0              0   \n",
       "4                 0                                0              0   \n",
       "...             ...                              ...            ...   \n",
       "39769             0                                0              0   \n",
       "39770             0                                0              0   \n",
       "39771             0                                0              0   \n",
       "39772             0                                0              0   \n",
       "39773             0                                0              0   \n",
       "\n",
       "       Lipton® Iced Tea Brew Family Size Tea Bags  \\\n",
       "0                                               0   \n",
       "1                                               0   \n",
       "2                                               0   \n",
       "3                                               0   \n",
       "4                                               0   \n",
       "...                                           ...   \n",
       "39769                                           0   \n",
       "39770                                           0   \n",
       "39771                                           0   \n",
       "39772                                           0   \n",
       "39773                                           0   \n",
       "\n",
       "       Hidden Valley® Greek Yogurt Original Ranch® Dip Mix  lop chong  \\\n",
       "0                                                      0            0   \n",
       "1                                                      0            0   \n",
       "2                                                      0            0   \n",
       "3                                                      0            0   \n",
       "4                                                      0            0   \n",
       "...                                                  ...          ...   \n",
       "39769                                                  0            0   \n",
       "39770                                                  0            0   \n",
       "39771                                                  0            0   \n",
       "39772                                                  0            0   \n",
       "39773                                                  0            0   \n",
       "\n",
       "       tomato garlic pasta sauce  crushed cheese crackers  \n",
       "0                              0                        0  \n",
       "1                              0                        0  \n",
       "2                              0                        0  \n",
       "3                              0                        0  \n",
       "4                              0                        0  \n",
       "...                          ...                      ...  \n",
       "39769                          0                        0  \n",
       "39770                          0                        0  \n",
       "39771                          0                        0  \n",
       "39772                          0                        0  \n",
       "39773                          0                        0  \n",
       "\n",
       "[39774 rows x 6847 columns]"
      ]
     },
     "execution_count": 40,
     "metadata": {},
     "output_type": "execute_result"
    }
   ],
   "source": [
    "train_df"
   ]
  },
  {
   "cell_type": "markdown",
   "id": "931d92c3-2068-463b-9543-dba17158b128",
   "metadata": {
    "jp-MarkdownHeadingCollapsed": true,
    "tags": []
   },
   "source": [
    "### Test"
   ]
  },
  {
   "cell_type": "code",
   "execution_count": 41,
   "id": "489b04bc-6d64-49ce-bcb8-c32150f38d87",
   "metadata": {},
   "outputs": [
    {
     "data": {
      "text/plain": [
       "4500"
      ]
     },
     "execution_count": 41,
     "metadata": {},
     "output_type": "execute_result"
    }
   ],
   "source": [
    "len(test_vocab)"
   ]
  },
  {
   "cell_type": "code",
   "execution_count": 42,
   "id": "c57a6002-fb3a-4ef3-bb90-6b1a8803dd21",
   "metadata": {},
   "outputs": [],
   "source": [
    "# pass vocabulary to vectorizer\n",
    "test_cvec = CountVectorizer(vocabulary = test_vocab)"
   ]
  },
  {
   "cell_type": "code",
   "execution_count": 43,
   "id": "9e869f69-5b8f-4e75-9f2c-70abf8c85b0d",
   "metadata": {},
   "outputs": [
    {
     "name": "stderr",
     "output_type": "stream",
     "text": [
      "/Users/kaitcrawford/opt/anaconda3/lib/python3.9/site-packages/sklearn/feature_extraction/text.py:1322: UserWarning: Upper case characters found in vocabulary while 'lowercase' is True. These entries will not be matched with any documents\n",
      "  warnings.warn(\n"
     ]
    }
   ],
   "source": [
    "test_matrix = test_cvec.fit_transform(X_test['ingredients'])"
   ]
  },
  {
   "cell_type": "code",
   "execution_count": 44,
   "id": "9404f0fc-c8d6-4234-81d1-d3b80bed63bc",
   "metadata": {},
   "outputs": [
    {
     "name": "stderr",
     "output_type": "stream",
     "text": [
      "/Users/kaitcrawford/opt/anaconda3/lib/python3.9/site-packages/sklearn/utils/deprecation.py:87: FutureWarning: Function get_feature_names is deprecated; get_feature_names is deprecated in 1.0 and will be removed in 1.2. Please use get_feature_names_out instead.\n",
      "  warnings.warn(msg, category=FutureWarning)\n"
     ]
    }
   ],
   "source": [
    "test_df = pd.DataFrame(test_matrix.todense(), columns=test_cvec.get_feature_names())"
   ]
  },
  {
   "cell_type": "code",
   "execution_count": 45,
   "id": "afa855c5-1f48-481e-a4c5-442a570a7712",
   "metadata": {},
   "outputs": [
    {
     "data": {
      "text/html": [
       "<div>\n",
       "<style scoped>\n",
       "    .dataframe tbody tr th:only-of-type {\n",
       "        vertical-align: middle;\n",
       "    }\n",
       "\n",
       "    .dataframe tbody tr th {\n",
       "        vertical-align: top;\n",
       "    }\n",
       "\n",
       "    .dataframe thead th {\n",
       "        text-align: right;\n",
       "    }\n",
       "</style>\n",
       "<table border=\"1\" class=\"dataframe\">\n",
       "  <thead>\n",
       "    <tr style=\"text-align: right;\">\n",
       "      <th></th>\n",
       "      <th>baking powder</th>\n",
       "      <th>eggs</th>\n",
       "      <th>all-purpose flour</th>\n",
       "      <th>raisins</th>\n",
       "      <th>milk</th>\n",
       "      <th>white sugar</th>\n",
       "      <th>sugar</th>\n",
       "      <th>egg yolks</th>\n",
       "      <th>corn starch</th>\n",
       "      <th>cream of tartar</th>\n",
       "      <th>...</th>\n",
       "      <th>fraise</th>\n",
       "      <th>beef heart</th>\n",
       "      <th>lambs liver</th>\n",
       "      <th>soft cheese</th>\n",
       "      <th>sliced mango</th>\n",
       "      <th>pork strips</th>\n",
       "      <th>shark fillets</th>\n",
       "      <th>hash brown</th>\n",
       "      <th>porter</th>\n",
       "      <th>butter crackers</th>\n",
       "    </tr>\n",
       "  </thead>\n",
       "  <tbody>\n",
       "    <tr>\n",
       "      <th>0</th>\n",
       "      <td>0</td>\n",
       "      <td>1</td>\n",
       "      <td>0</td>\n",
       "      <td>1</td>\n",
       "      <td>1</td>\n",
       "      <td>0</td>\n",
       "      <td>1</td>\n",
       "      <td>0</td>\n",
       "      <td>0</td>\n",
       "      <td>0</td>\n",
       "      <td>...</td>\n",
       "      <td>0</td>\n",
       "      <td>0</td>\n",
       "      <td>0</td>\n",
       "      <td>0</td>\n",
       "      <td>0</td>\n",
       "      <td>0</td>\n",
       "      <td>0</td>\n",
       "      <td>0</td>\n",
       "      <td>0</td>\n",
       "      <td>0</td>\n",
       "    </tr>\n",
       "    <tr>\n",
       "      <th>1</th>\n",
       "      <td>0</td>\n",
       "      <td>0</td>\n",
       "      <td>0</td>\n",
       "      <td>0</td>\n",
       "      <td>1</td>\n",
       "      <td>0</td>\n",
       "      <td>1</td>\n",
       "      <td>0</td>\n",
       "      <td>0</td>\n",
       "      <td>0</td>\n",
       "      <td>...</td>\n",
       "      <td>0</td>\n",
       "      <td>0</td>\n",
       "      <td>0</td>\n",
       "      <td>0</td>\n",
       "      <td>0</td>\n",
       "      <td>0</td>\n",
       "      <td>0</td>\n",
       "      <td>0</td>\n",
       "      <td>0</td>\n",
       "      <td>0</td>\n",
       "    </tr>\n",
       "    <tr>\n",
       "      <th>2</th>\n",
       "      <td>0</td>\n",
       "      <td>0</td>\n",
       "      <td>0</td>\n",
       "      <td>0</td>\n",
       "      <td>0</td>\n",
       "      <td>0</td>\n",
       "      <td>0</td>\n",
       "      <td>0</td>\n",
       "      <td>0</td>\n",
       "      <td>0</td>\n",
       "      <td>...</td>\n",
       "      <td>0</td>\n",
       "      <td>0</td>\n",
       "      <td>0</td>\n",
       "      <td>0</td>\n",
       "      <td>0</td>\n",
       "      <td>0</td>\n",
       "      <td>0</td>\n",
       "      <td>0</td>\n",
       "      <td>0</td>\n",
       "      <td>0</td>\n",
       "    </tr>\n",
       "    <tr>\n",
       "      <th>3</th>\n",
       "      <td>0</td>\n",
       "      <td>0</td>\n",
       "      <td>0</td>\n",
       "      <td>0</td>\n",
       "      <td>0</td>\n",
       "      <td>0</td>\n",
       "      <td>0</td>\n",
       "      <td>0</td>\n",
       "      <td>0</td>\n",
       "      <td>0</td>\n",
       "      <td>...</td>\n",
       "      <td>0</td>\n",
       "      <td>0</td>\n",
       "      <td>0</td>\n",
       "      <td>0</td>\n",
       "      <td>0</td>\n",
       "      <td>0</td>\n",
       "      <td>0</td>\n",
       "      <td>0</td>\n",
       "      <td>0</td>\n",
       "      <td>0</td>\n",
       "    </tr>\n",
       "    <tr>\n",
       "      <th>4</th>\n",
       "      <td>0</td>\n",
       "      <td>0</td>\n",
       "      <td>0</td>\n",
       "      <td>0</td>\n",
       "      <td>0</td>\n",
       "      <td>0</td>\n",
       "      <td>0</td>\n",
       "      <td>0</td>\n",
       "      <td>0</td>\n",
       "      <td>0</td>\n",
       "      <td>...</td>\n",
       "      <td>0</td>\n",
       "      <td>0</td>\n",
       "      <td>0</td>\n",
       "      <td>0</td>\n",
       "      <td>0</td>\n",
       "      <td>0</td>\n",
       "      <td>0</td>\n",
       "      <td>0</td>\n",
       "      <td>0</td>\n",
       "      <td>0</td>\n",
       "    </tr>\n",
       "    <tr>\n",
       "      <th>...</th>\n",
       "      <td>...</td>\n",
       "      <td>...</td>\n",
       "      <td>...</td>\n",
       "      <td>...</td>\n",
       "      <td>...</td>\n",
       "      <td>...</td>\n",
       "      <td>...</td>\n",
       "      <td>...</td>\n",
       "      <td>...</td>\n",
       "      <td>...</td>\n",
       "      <td>...</td>\n",
       "      <td>...</td>\n",
       "      <td>...</td>\n",
       "      <td>...</td>\n",
       "      <td>...</td>\n",
       "      <td>...</td>\n",
       "      <td>...</td>\n",
       "      <td>...</td>\n",
       "      <td>...</td>\n",
       "      <td>...</td>\n",
       "      <td>...</td>\n",
       "    </tr>\n",
       "    <tr>\n",
       "      <th>9939</th>\n",
       "      <td>0</td>\n",
       "      <td>0</td>\n",
       "      <td>0</td>\n",
       "      <td>0</td>\n",
       "      <td>0</td>\n",
       "      <td>0</td>\n",
       "      <td>1</td>\n",
       "      <td>0</td>\n",
       "      <td>0</td>\n",
       "      <td>0</td>\n",
       "      <td>...</td>\n",
       "      <td>0</td>\n",
       "      <td>0</td>\n",
       "      <td>0</td>\n",
       "      <td>0</td>\n",
       "      <td>0</td>\n",
       "      <td>0</td>\n",
       "      <td>0</td>\n",
       "      <td>0</td>\n",
       "      <td>0</td>\n",
       "      <td>0</td>\n",
       "    </tr>\n",
       "    <tr>\n",
       "      <th>9940</th>\n",
       "      <td>0</td>\n",
       "      <td>0</td>\n",
       "      <td>0</td>\n",
       "      <td>0</td>\n",
       "      <td>0</td>\n",
       "      <td>0</td>\n",
       "      <td>0</td>\n",
       "      <td>0</td>\n",
       "      <td>0</td>\n",
       "      <td>0</td>\n",
       "      <td>...</td>\n",
       "      <td>0</td>\n",
       "      <td>0</td>\n",
       "      <td>0</td>\n",
       "      <td>0</td>\n",
       "      <td>0</td>\n",
       "      <td>0</td>\n",
       "      <td>0</td>\n",
       "      <td>0</td>\n",
       "      <td>0</td>\n",
       "      <td>0</td>\n",
       "    </tr>\n",
       "    <tr>\n",
       "      <th>9941</th>\n",
       "      <td>0</td>\n",
       "      <td>0</td>\n",
       "      <td>0</td>\n",
       "      <td>0</td>\n",
       "      <td>0</td>\n",
       "      <td>0</td>\n",
       "      <td>0</td>\n",
       "      <td>0</td>\n",
       "      <td>0</td>\n",
       "      <td>0</td>\n",
       "      <td>...</td>\n",
       "      <td>0</td>\n",
       "      <td>0</td>\n",
       "      <td>0</td>\n",
       "      <td>0</td>\n",
       "      <td>0</td>\n",
       "      <td>0</td>\n",
       "      <td>0</td>\n",
       "      <td>0</td>\n",
       "      <td>0</td>\n",
       "      <td>0</td>\n",
       "    </tr>\n",
       "    <tr>\n",
       "      <th>9942</th>\n",
       "      <td>0</td>\n",
       "      <td>0</td>\n",
       "      <td>0</td>\n",
       "      <td>0</td>\n",
       "      <td>1</td>\n",
       "      <td>0</td>\n",
       "      <td>0</td>\n",
       "      <td>0</td>\n",
       "      <td>0</td>\n",
       "      <td>0</td>\n",
       "      <td>...</td>\n",
       "      <td>0</td>\n",
       "      <td>0</td>\n",
       "      <td>0</td>\n",
       "      <td>0</td>\n",
       "      <td>0</td>\n",
       "      <td>0</td>\n",
       "      <td>0</td>\n",
       "      <td>0</td>\n",
       "      <td>0</td>\n",
       "      <td>0</td>\n",
       "    </tr>\n",
       "    <tr>\n",
       "      <th>9943</th>\n",
       "      <td>0</td>\n",
       "      <td>0</td>\n",
       "      <td>0</td>\n",
       "      <td>0</td>\n",
       "      <td>0</td>\n",
       "      <td>0</td>\n",
       "      <td>0</td>\n",
       "      <td>0</td>\n",
       "      <td>0</td>\n",
       "      <td>0</td>\n",
       "      <td>...</td>\n",
       "      <td>0</td>\n",
       "      <td>0</td>\n",
       "      <td>0</td>\n",
       "      <td>0</td>\n",
       "      <td>0</td>\n",
       "      <td>0</td>\n",
       "      <td>0</td>\n",
       "      <td>0</td>\n",
       "      <td>0</td>\n",
       "      <td>0</td>\n",
       "    </tr>\n",
       "  </tbody>\n",
       "</table>\n",
       "<p>9944 rows × 4500 columns</p>\n",
       "</div>"
      ],
      "text/plain": [
       "      baking powder  eggs  all-purpose flour  raisins  milk  white sugar  \\\n",
       "0                 0     1                  0        1     1            0   \n",
       "1                 0     0                  0        0     1            0   \n",
       "2                 0     0                  0        0     0            0   \n",
       "3                 0     0                  0        0     0            0   \n",
       "4                 0     0                  0        0     0            0   \n",
       "...             ...   ...                ...      ...   ...          ...   \n",
       "9939              0     0                  0        0     0            0   \n",
       "9940              0     0                  0        0     0            0   \n",
       "9941              0     0                  0        0     0            0   \n",
       "9942              0     0                  0        0     1            0   \n",
       "9943              0     0                  0        0     0            0   \n",
       "\n",
       "      sugar  egg yolks  corn starch  cream of tartar  ...  fraise  beef heart  \\\n",
       "0         1          0            0                0  ...       0           0   \n",
       "1         1          0            0                0  ...       0           0   \n",
       "2         0          0            0                0  ...       0           0   \n",
       "3         0          0            0                0  ...       0           0   \n",
       "4         0          0            0                0  ...       0           0   \n",
       "...     ...        ...          ...              ...  ...     ...         ...   \n",
       "9939      1          0            0                0  ...       0           0   \n",
       "9940      0          0            0                0  ...       0           0   \n",
       "9941      0          0            0                0  ...       0           0   \n",
       "9942      0          0            0                0  ...       0           0   \n",
       "9943      0          0            0                0  ...       0           0   \n",
       "\n",
       "      lambs liver  soft cheese  sliced mango  pork strips  shark fillets  \\\n",
       "0               0            0             0            0              0   \n",
       "1               0            0             0            0              0   \n",
       "2               0            0             0            0              0   \n",
       "3               0            0             0            0              0   \n",
       "4               0            0             0            0              0   \n",
       "...           ...          ...           ...          ...            ...   \n",
       "9939            0            0             0            0              0   \n",
       "9940            0            0             0            0              0   \n",
       "9941            0            0             0            0              0   \n",
       "9942            0            0             0            0              0   \n",
       "9943            0            0             0            0              0   \n",
       "\n",
       "      hash brown  porter  butter crackers  \n",
       "0              0       0                0  \n",
       "1              0       0                0  \n",
       "2              0       0                0  \n",
       "3              0       0                0  \n",
       "4              0       0                0  \n",
       "...          ...     ...              ...  \n",
       "9939           0       0                0  \n",
       "9940           0       0                0  \n",
       "9941           0       0                0  \n",
       "9942           0       0                0  \n",
       "9943           0       0                0  \n",
       "\n",
       "[9944 rows x 4500 columns]"
      ]
     },
     "execution_count": 45,
     "metadata": {},
     "output_type": "execute_result"
    }
   ],
   "source": [
    "test_df"
   ]
  },
  {
   "cell_type": "markdown",
   "id": "35af9104-5663-4194-bd8f-71ba2c55243a",
   "metadata": {
    "jp-MarkdownHeadingCollapsed": true,
    "tags": []
   },
   "source": [
    "## Concatenate Vectorized columns to train set"
   ]
  },
  {
   "cell_type": "markdown",
   "id": "34a69dbc-fd32-4e60-80b9-5be60892cc5b",
   "metadata": {
    "jp-MarkdownHeadingCollapsed": true,
    "tags": []
   },
   "source": [
    "### train"
   ]
  },
  {
   "cell_type": "code",
   "execution_count": 46,
   "id": "edcba4bf-c960-49a3-94ea-4a666f6668d7",
   "metadata": {},
   "outputs": [
    {
     "data": {
      "text/plain": [
       "(39774, 7)"
      ]
     },
     "execution_count": 46,
     "metadata": {},
     "output_type": "execute_result"
    }
   ],
   "source": [
    "train.shape"
   ]
  },
  {
   "cell_type": "code",
   "execution_count": 47,
   "id": "4b9d7814-0b3d-4f33-bbbf-cdd47de1f098",
   "metadata": {},
   "outputs": [
    {
     "data": {
      "text/plain": [
       "(39774, 6847)"
      ]
     },
     "execution_count": 47,
     "metadata": {},
     "output_type": "execute_result"
    }
   ],
   "source": [
    "train_df.shape"
   ]
  },
  {
   "cell_type": "code",
   "execution_count": 48,
   "id": "389f534b-d4a4-433b-9531-b0b7c4f92906",
   "metadata": {},
   "outputs": [],
   "source": [
    "train_df_full = pd.concat([train[['id', 'cuisine', 'char_count', 'ingredient_count']], train_df], axis=1)"
   ]
  },
  {
   "cell_type": "code",
   "execution_count": 49,
   "id": "d6065c49-6abd-4348-a61d-bcef922a2b95",
   "metadata": {},
   "outputs": [
    {
     "data": {
      "text/html": [
       "<div>\n",
       "<style scoped>\n",
       "    .dataframe tbody tr th:only-of-type {\n",
       "        vertical-align: middle;\n",
       "    }\n",
       "\n",
       "    .dataframe tbody tr th {\n",
       "        vertical-align: top;\n",
       "    }\n",
       "\n",
       "    .dataframe thead th {\n",
       "        text-align: right;\n",
       "    }\n",
       "</style>\n",
       "<table border=\"1\" class=\"dataframe\">\n",
       "  <thead>\n",
       "    <tr style=\"text-align: right;\">\n",
       "      <th></th>\n",
       "      <th>id</th>\n",
       "      <th>cuisine</th>\n",
       "      <th>char_count</th>\n",
       "      <th>ingredient_count</th>\n",
       "      <th>romaine lettuce</th>\n",
       "      <th>black olives</th>\n",
       "      <th>grape tomatoes</th>\n",
       "      <th>garlic</th>\n",
       "      <th>pepper</th>\n",
       "      <th>purple onion</th>\n",
       "      <th>...</th>\n",
       "      <th>Oscar Mayer Cotto Salami</th>\n",
       "      <th>Challenge Butter</th>\n",
       "      <th>orange glaze</th>\n",
       "      <th>cholesterol free egg substitute</th>\n",
       "      <th>ciabatta loaf</th>\n",
       "      <th>Lipton® Iced Tea Brew Family Size Tea Bags</th>\n",
       "      <th>Hidden Valley® Greek Yogurt Original Ranch® Dip Mix</th>\n",
       "      <th>lop chong</th>\n",
       "      <th>tomato garlic pasta sauce</th>\n",
       "      <th>crushed cheese crackers</th>\n",
       "    </tr>\n",
       "  </thead>\n",
       "  <tbody>\n",
       "    <tr>\n",
       "      <th>0</th>\n",
       "      <td>10259</td>\n",
       "      <td>0</td>\n",
       "      <td>144</td>\n",
       "      <td>9</td>\n",
       "      <td>0</td>\n",
       "      <td>0</td>\n",
       "      <td>0</td>\n",
       "      <td>1</td>\n",
       "      <td>1</td>\n",
       "      <td>0</td>\n",
       "      <td>...</td>\n",
       "      <td>0</td>\n",
       "      <td>0</td>\n",
       "      <td>0</td>\n",
       "      <td>0</td>\n",
       "      <td>0</td>\n",
       "      <td>0</td>\n",
       "      <td>0</td>\n",
       "      <td>0</td>\n",
       "      <td>0</td>\n",
       "      <td>0</td>\n",
       "    </tr>\n",
       "    <tr>\n",
       "      <th>1</th>\n",
       "      <td>25693</td>\n",
       "      <td>1</td>\n",
       "      <td>155</td>\n",
       "      <td>11</td>\n",
       "      <td>0</td>\n",
       "      <td>0</td>\n",
       "      <td>0</td>\n",
       "      <td>0</td>\n",
       "      <td>2</td>\n",
       "      <td>0</td>\n",
       "      <td>...</td>\n",
       "      <td>0</td>\n",
       "      <td>0</td>\n",
       "      <td>0</td>\n",
       "      <td>0</td>\n",
       "      <td>0</td>\n",
       "      <td>0</td>\n",
       "      <td>0</td>\n",
       "      <td>0</td>\n",
       "      <td>0</td>\n",
       "      <td>0</td>\n",
       "    </tr>\n",
       "    <tr>\n",
       "      <th>2</th>\n",
       "      <td>20130</td>\n",
       "      <td>2</td>\n",
       "      <td>172</td>\n",
       "      <td>12</td>\n",
       "      <td>0</td>\n",
       "      <td>0</td>\n",
       "      <td>0</td>\n",
       "      <td>1</td>\n",
       "      <td>1</td>\n",
       "      <td>0</td>\n",
       "      <td>...</td>\n",
       "      <td>0</td>\n",
       "      <td>0</td>\n",
       "      <td>0</td>\n",
       "      <td>0</td>\n",
       "      <td>0</td>\n",
       "      <td>0</td>\n",
       "      <td>0</td>\n",
       "      <td>0</td>\n",
       "      <td>0</td>\n",
       "      <td>0</td>\n",
       "    </tr>\n",
       "    <tr>\n",
       "      <th>3</th>\n",
       "      <td>22213</td>\n",
       "      <td>3</td>\n",
       "      <td>43</td>\n",
       "      <td>4</td>\n",
       "      <td>0</td>\n",
       "      <td>0</td>\n",
       "      <td>0</td>\n",
       "      <td>0</td>\n",
       "      <td>0</td>\n",
       "      <td>0</td>\n",
       "      <td>...</td>\n",
       "      <td>0</td>\n",
       "      <td>0</td>\n",
       "      <td>0</td>\n",
       "      <td>0</td>\n",
       "      <td>0</td>\n",
       "      <td>0</td>\n",
       "      <td>0</td>\n",
       "      <td>0</td>\n",
       "      <td>0</td>\n",
       "      <td>0</td>\n",
       "    </tr>\n",
       "    <tr>\n",
       "      <th>4</th>\n",
       "      <td>13162</td>\n",
       "      <td>3</td>\n",
       "      <td>282</td>\n",
       "      <td>20</td>\n",
       "      <td>0</td>\n",
       "      <td>0</td>\n",
       "      <td>0</td>\n",
       "      <td>1</td>\n",
       "      <td>2</td>\n",
       "      <td>0</td>\n",
       "      <td>...</td>\n",
       "      <td>0</td>\n",
       "      <td>0</td>\n",
       "      <td>0</td>\n",
       "      <td>0</td>\n",
       "      <td>0</td>\n",
       "      <td>0</td>\n",
       "      <td>0</td>\n",
       "      <td>0</td>\n",
       "      <td>0</td>\n",
       "      <td>0</td>\n",
       "    </tr>\n",
       "    <tr>\n",
       "      <th>...</th>\n",
       "      <td>...</td>\n",
       "      <td>...</td>\n",
       "      <td>...</td>\n",
       "      <td>...</td>\n",
       "      <td>...</td>\n",
       "      <td>...</td>\n",
       "      <td>...</td>\n",
       "      <td>...</td>\n",
       "      <td>...</td>\n",
       "      <td>...</td>\n",
       "      <td>...</td>\n",
       "      <td>...</td>\n",
       "      <td>...</td>\n",
       "      <td>...</td>\n",
       "      <td>...</td>\n",
       "      <td>...</td>\n",
       "      <td>...</td>\n",
       "      <td>...</td>\n",
       "      <td>...</td>\n",
       "      <td>...</td>\n",
       "      <td>...</td>\n",
       "    </tr>\n",
       "    <tr>\n",
       "      <th>39769</th>\n",
       "      <td>29109</td>\n",
       "      <td>16</td>\n",
       "      <td>194</td>\n",
       "      <td>12</td>\n",
       "      <td>0</td>\n",
       "      <td>0</td>\n",
       "      <td>0</td>\n",
       "      <td>0</td>\n",
       "      <td>0</td>\n",
       "      <td>0</td>\n",
       "      <td>...</td>\n",
       "      <td>0</td>\n",
       "      <td>0</td>\n",
       "      <td>0</td>\n",
       "      <td>0</td>\n",
       "      <td>0</td>\n",
       "      <td>0</td>\n",
       "      <td>0</td>\n",
       "      <td>0</td>\n",
       "      <td>0</td>\n",
       "      <td>0</td>\n",
       "    </tr>\n",
       "    <tr>\n",
       "      <th>39770</th>\n",
       "      <td>11462</td>\n",
       "      <td>6</td>\n",
       "      <td>147</td>\n",
       "      <td>7</td>\n",
       "      <td>0</td>\n",
       "      <td>0</td>\n",
       "      <td>0</td>\n",
       "      <td>0</td>\n",
       "      <td>1</td>\n",
       "      <td>0</td>\n",
       "      <td>...</td>\n",
       "      <td>0</td>\n",
       "      <td>0</td>\n",
       "      <td>0</td>\n",
       "      <td>0</td>\n",
       "      <td>0</td>\n",
       "      <td>0</td>\n",
       "      <td>0</td>\n",
       "      <td>0</td>\n",
       "      <td>0</td>\n",
       "      <td>0</td>\n",
       "    </tr>\n",
       "    <tr>\n",
       "      <th>39771</th>\n",
       "      <td>2238</td>\n",
       "      <td>16</td>\n",
       "      <td>147</td>\n",
       "      <td>12</td>\n",
       "      <td>0</td>\n",
       "      <td>0</td>\n",
       "      <td>0</td>\n",
       "      <td>0</td>\n",
       "      <td>0</td>\n",
       "      <td>0</td>\n",
       "      <td>...</td>\n",
       "      <td>0</td>\n",
       "      <td>0</td>\n",
       "      <td>0</td>\n",
       "      <td>0</td>\n",
       "      <td>0</td>\n",
       "      <td>0</td>\n",
       "      <td>0</td>\n",
       "      <td>0</td>\n",
       "      <td>0</td>\n",
       "      <td>0</td>\n",
       "    </tr>\n",
       "    <tr>\n",
       "      <th>39772</th>\n",
       "      <td>41882</td>\n",
       "      <td>8</td>\n",
       "      <td>360</td>\n",
       "      <td>21</td>\n",
       "      <td>0</td>\n",
       "      <td>0</td>\n",
       "      <td>0</td>\n",
       "      <td>1</td>\n",
       "      <td>0</td>\n",
       "      <td>0</td>\n",
       "      <td>...</td>\n",
       "      <td>0</td>\n",
       "      <td>0</td>\n",
       "      <td>0</td>\n",
       "      <td>0</td>\n",
       "      <td>0</td>\n",
       "      <td>0</td>\n",
       "      <td>0</td>\n",
       "      <td>0</td>\n",
       "      <td>0</td>\n",
       "      <td>0</td>\n",
       "    </tr>\n",
       "    <tr>\n",
       "      <th>39773</th>\n",
       "      <td>2362</td>\n",
       "      <td>7</td>\n",
       "      <td>192</td>\n",
       "      <td>12</td>\n",
       "      <td>0</td>\n",
       "      <td>0</td>\n",
       "      <td>0</td>\n",
       "      <td>1</td>\n",
       "      <td>2</td>\n",
       "      <td>0</td>\n",
       "      <td>...</td>\n",
       "      <td>0</td>\n",
       "      <td>0</td>\n",
       "      <td>0</td>\n",
       "      <td>0</td>\n",
       "      <td>0</td>\n",
       "      <td>0</td>\n",
       "      <td>0</td>\n",
       "      <td>0</td>\n",
       "      <td>0</td>\n",
       "      <td>0</td>\n",
       "    </tr>\n",
       "  </tbody>\n",
       "</table>\n",
       "<p>39774 rows × 6851 columns</p>\n",
       "</div>"
      ],
      "text/plain": [
       "          id  cuisine  char_count  ingredient_count  romaine lettuce  \\\n",
       "0      10259        0         144                 9                0   \n",
       "1      25693        1         155                11                0   \n",
       "2      20130        2         172                12                0   \n",
       "3      22213        3          43                 4                0   \n",
       "4      13162        3         282                20                0   \n",
       "...      ...      ...         ...               ...              ...   \n",
       "39769  29109       16         194                12                0   \n",
       "39770  11462        6         147                 7                0   \n",
       "39771   2238       16         147                12                0   \n",
       "39772  41882        8         360                21                0   \n",
       "39773   2362        7         192                12                0   \n",
       "\n",
       "       black olives  grape tomatoes  garlic  pepper  purple onion  ...  \\\n",
       "0                 0               0       1       1             0  ...   \n",
       "1                 0               0       0       2             0  ...   \n",
       "2                 0               0       1       1             0  ...   \n",
       "3                 0               0       0       0             0  ...   \n",
       "4                 0               0       1       2             0  ...   \n",
       "...             ...             ...     ...     ...           ...  ...   \n",
       "39769             0               0       0       0             0  ...   \n",
       "39770             0               0       0       1             0  ...   \n",
       "39771             0               0       0       0             0  ...   \n",
       "39772             0               0       1       0             0  ...   \n",
       "39773             0               0       1       2             0  ...   \n",
       "\n",
       "       Oscar Mayer Cotto Salami  Challenge Butter  orange glaze  \\\n",
       "0                             0                 0             0   \n",
       "1                             0                 0             0   \n",
       "2                             0                 0             0   \n",
       "3                             0                 0             0   \n",
       "4                             0                 0             0   \n",
       "...                         ...               ...           ...   \n",
       "39769                         0                 0             0   \n",
       "39770                         0                 0             0   \n",
       "39771                         0                 0             0   \n",
       "39772                         0                 0             0   \n",
       "39773                         0                 0             0   \n",
       "\n",
       "       cholesterol free egg substitute  ciabatta loaf  \\\n",
       "0                                    0              0   \n",
       "1                                    0              0   \n",
       "2                                    0              0   \n",
       "3                                    0              0   \n",
       "4                                    0              0   \n",
       "...                                ...            ...   \n",
       "39769                                0              0   \n",
       "39770                                0              0   \n",
       "39771                                0              0   \n",
       "39772                                0              0   \n",
       "39773                                0              0   \n",
       "\n",
       "       Lipton® Iced Tea Brew Family Size Tea Bags  \\\n",
       "0                                               0   \n",
       "1                                               0   \n",
       "2                                               0   \n",
       "3                                               0   \n",
       "4                                               0   \n",
       "...                                           ...   \n",
       "39769                                           0   \n",
       "39770                                           0   \n",
       "39771                                           0   \n",
       "39772                                           0   \n",
       "39773                                           0   \n",
       "\n",
       "       Hidden Valley® Greek Yogurt Original Ranch® Dip Mix  lop chong  \\\n",
       "0                                                      0            0   \n",
       "1                                                      0            0   \n",
       "2                                                      0            0   \n",
       "3                                                      0            0   \n",
       "4                                                      0            0   \n",
       "...                                                  ...          ...   \n",
       "39769                                                  0            0   \n",
       "39770                                                  0            0   \n",
       "39771                                                  0            0   \n",
       "39772                                                  0            0   \n",
       "39773                                                  0            0   \n",
       "\n",
       "       tomato garlic pasta sauce  crushed cheese crackers  \n",
       "0                              0                        0  \n",
       "1                              0                        0  \n",
       "2                              0                        0  \n",
       "3                              0                        0  \n",
       "4                              0                        0  \n",
       "...                          ...                      ...  \n",
       "39769                          0                        0  \n",
       "39770                          0                        0  \n",
       "39771                          0                        0  \n",
       "39772                          0                        0  \n",
       "39773                          0                        0  \n",
       "\n",
       "[39774 rows x 6851 columns]"
      ]
     },
     "execution_count": 49,
     "metadata": {},
     "output_type": "execute_result"
    }
   ],
   "source": [
    "train_df_full"
   ]
  },
  {
   "cell_type": "markdown",
   "id": "335a143d-d370-450d-8f13-0020dbd93751",
   "metadata": {
    "jp-MarkdownHeadingCollapsed": true,
    "tags": []
   },
   "source": [
    "### test"
   ]
  },
  {
   "cell_type": "code",
   "execution_count": 50,
   "id": "218ae015-be13-4f30-a1c0-9d8bfeb24117",
   "metadata": {},
   "outputs": [
    {
     "data": {
      "text/plain": [
       "(9944, 6)"
      ]
     },
     "execution_count": 50,
     "metadata": {},
     "output_type": "execute_result"
    }
   ],
   "source": [
    "test.shape"
   ]
  },
  {
   "cell_type": "code",
   "execution_count": 51,
   "id": "3ed8c5a7-04f2-4dd8-bb93-31d251f426b6",
   "metadata": {},
   "outputs": [
    {
     "data": {
      "text/plain": [
       "(9944, 4500)"
      ]
     },
     "execution_count": 51,
     "metadata": {},
     "output_type": "execute_result"
    }
   ],
   "source": [
    "test_df.shape"
   ]
  },
  {
   "cell_type": "code",
   "execution_count": 58,
   "id": "9e9f63dd-d996-41a5-86d2-d38ed53c9672",
   "metadata": {},
   "outputs": [],
   "source": [
    "test_df_full = pd.concat([test[['id', 'char_count', 'ingredient_count']], test_df], axis=1)"
   ]
  },
  {
   "cell_type": "code",
   "execution_count": 59,
   "id": "91566b73-9c20-4ac3-b912-ab7418961087",
   "metadata": {},
   "outputs": [
    {
     "data": {
      "text/html": [
       "<div>\n",
       "<style scoped>\n",
       "    .dataframe tbody tr th:only-of-type {\n",
       "        vertical-align: middle;\n",
       "    }\n",
       "\n",
       "    .dataframe tbody tr th {\n",
       "        vertical-align: top;\n",
       "    }\n",
       "\n",
       "    .dataframe thead th {\n",
       "        text-align: right;\n",
       "    }\n",
       "</style>\n",
       "<table border=\"1\" class=\"dataframe\">\n",
       "  <thead>\n",
       "    <tr style=\"text-align: right;\">\n",
       "      <th></th>\n",
       "      <th>id</th>\n",
       "      <th>char_count</th>\n",
       "      <th>ingredient_count</th>\n",
       "      <th>baking powder</th>\n",
       "      <th>eggs</th>\n",
       "      <th>all-purpose flour</th>\n",
       "      <th>raisins</th>\n",
       "      <th>milk</th>\n",
       "      <th>white sugar</th>\n",
       "      <th>sugar</th>\n",
       "      <th>...</th>\n",
       "      <th>fraise</th>\n",
       "      <th>beef heart</th>\n",
       "      <th>lambs liver</th>\n",
       "      <th>soft cheese</th>\n",
       "      <th>sliced mango</th>\n",
       "      <th>pork strips</th>\n",
       "      <th>shark fillets</th>\n",
       "      <th>hash brown</th>\n",
       "      <th>porter</th>\n",
       "      <th>butter crackers</th>\n",
       "    </tr>\n",
       "  </thead>\n",
       "  <tbody>\n",
       "    <tr>\n",
       "      <th>0</th>\n",
       "      <td>18009</td>\n",
       "      <td>80</td>\n",
       "      <td>6</td>\n",
       "      <td>0</td>\n",
       "      <td>1</td>\n",
       "      <td>0</td>\n",
       "      <td>1</td>\n",
       "      <td>1</td>\n",
       "      <td>0</td>\n",
       "      <td>1</td>\n",
       "      <td>...</td>\n",
       "      <td>0</td>\n",
       "      <td>0</td>\n",
       "      <td>0</td>\n",
       "      <td>0</td>\n",
       "      <td>0</td>\n",
       "      <td>0</td>\n",
       "      <td>0</td>\n",
       "      <td>0</td>\n",
       "      <td>0</td>\n",
       "      <td>0</td>\n",
       "    </tr>\n",
       "    <tr>\n",
       "      <th>1</th>\n",
       "      <td>28583</td>\n",
       "      <td>157</td>\n",
       "      <td>11</td>\n",
       "      <td>0</td>\n",
       "      <td>0</td>\n",
       "      <td>0</td>\n",
       "      <td>0</td>\n",
       "      <td>1</td>\n",
       "      <td>0</td>\n",
       "      <td>1</td>\n",
       "      <td>...</td>\n",
       "      <td>0</td>\n",
       "      <td>0</td>\n",
       "      <td>0</td>\n",
       "      <td>0</td>\n",
       "      <td>0</td>\n",
       "      <td>0</td>\n",
       "      <td>0</td>\n",
       "      <td>0</td>\n",
       "      <td>0</td>\n",
       "      <td>0</td>\n",
       "    </tr>\n",
       "    <tr>\n",
       "      <th>2</th>\n",
       "      <td>41580</td>\n",
       "      <td>82</td>\n",
       "      <td>6</td>\n",
       "      <td>0</td>\n",
       "      <td>0</td>\n",
       "      <td>0</td>\n",
       "      <td>0</td>\n",
       "      <td>0</td>\n",
       "      <td>0</td>\n",
       "      <td>0</td>\n",
       "      <td>...</td>\n",
       "      <td>0</td>\n",
       "      <td>0</td>\n",
       "      <td>0</td>\n",
       "      <td>0</td>\n",
       "      <td>0</td>\n",
       "      <td>0</td>\n",
       "      <td>0</td>\n",
       "      <td>0</td>\n",
       "      <td>0</td>\n",
       "      <td>0</td>\n",
       "    </tr>\n",
       "    <tr>\n",
       "      <th>3</th>\n",
       "      <td>29752</td>\n",
       "      <td>336</td>\n",
       "      <td>21</td>\n",
       "      <td>0</td>\n",
       "      <td>0</td>\n",
       "      <td>0</td>\n",
       "      <td>0</td>\n",
       "      <td>0</td>\n",
       "      <td>0</td>\n",
       "      <td>0</td>\n",
       "      <td>...</td>\n",
       "      <td>0</td>\n",
       "      <td>0</td>\n",
       "      <td>0</td>\n",
       "      <td>0</td>\n",
       "      <td>0</td>\n",
       "      <td>0</td>\n",
       "      <td>0</td>\n",
       "      <td>0</td>\n",
       "      <td>0</td>\n",
       "      <td>0</td>\n",
       "    </tr>\n",
       "    <tr>\n",
       "      <th>4</th>\n",
       "      <td>35687</td>\n",
       "      <td>136</td>\n",
       "      <td>8</td>\n",
       "      <td>0</td>\n",
       "      <td>0</td>\n",
       "      <td>0</td>\n",
       "      <td>0</td>\n",
       "      <td>0</td>\n",
       "      <td>0</td>\n",
       "      <td>0</td>\n",
       "      <td>...</td>\n",
       "      <td>0</td>\n",
       "      <td>0</td>\n",
       "      <td>0</td>\n",
       "      <td>0</td>\n",
       "      <td>0</td>\n",
       "      <td>0</td>\n",
       "      <td>0</td>\n",
       "      <td>0</td>\n",
       "      <td>0</td>\n",
       "      <td>0</td>\n",
       "    </tr>\n",
       "    <tr>\n",
       "      <th>...</th>\n",
       "      <td>...</td>\n",
       "      <td>...</td>\n",
       "      <td>...</td>\n",
       "      <td>...</td>\n",
       "      <td>...</td>\n",
       "      <td>...</td>\n",
       "      <td>...</td>\n",
       "      <td>...</td>\n",
       "      <td>...</td>\n",
       "      <td>...</td>\n",
       "      <td>...</td>\n",
       "      <td>...</td>\n",
       "      <td>...</td>\n",
       "      <td>...</td>\n",
       "      <td>...</td>\n",
       "      <td>...</td>\n",
       "      <td>...</td>\n",
       "      <td>...</td>\n",
       "      <td>...</td>\n",
       "      <td>...</td>\n",
       "      <td>...</td>\n",
       "    </tr>\n",
       "    <tr>\n",
       "      <th>9939</th>\n",
       "      <td>30246</td>\n",
       "      <td>160</td>\n",
       "      <td>9</td>\n",
       "      <td>0</td>\n",
       "      <td>0</td>\n",
       "      <td>0</td>\n",
       "      <td>0</td>\n",
       "      <td>0</td>\n",
       "      <td>0</td>\n",
       "      <td>1</td>\n",
       "      <td>...</td>\n",
       "      <td>0</td>\n",
       "      <td>0</td>\n",
       "      <td>0</td>\n",
       "      <td>0</td>\n",
       "      <td>0</td>\n",
       "      <td>0</td>\n",
       "      <td>0</td>\n",
       "      <td>0</td>\n",
       "      <td>0</td>\n",
       "      <td>0</td>\n",
       "    </tr>\n",
       "    <tr>\n",
       "      <th>9940</th>\n",
       "      <td>36028</td>\n",
       "      <td>64</td>\n",
       "      <td>5</td>\n",
       "      <td>0</td>\n",
       "      <td>0</td>\n",
       "      <td>0</td>\n",
       "      <td>0</td>\n",
       "      <td>0</td>\n",
       "      <td>0</td>\n",
       "      <td>0</td>\n",
       "      <td>...</td>\n",
       "      <td>0</td>\n",
       "      <td>0</td>\n",
       "      <td>0</td>\n",
       "      <td>0</td>\n",
       "      <td>0</td>\n",
       "      <td>0</td>\n",
       "      <td>0</td>\n",
       "      <td>0</td>\n",
       "      <td>0</td>\n",
       "      <td>0</td>\n",
       "    </tr>\n",
       "    <tr>\n",
       "      <th>9941</th>\n",
       "      <td>22339</td>\n",
       "      <td>137</td>\n",
       "      <td>8</td>\n",
       "      <td>0</td>\n",
       "      <td>0</td>\n",
       "      <td>0</td>\n",
       "      <td>0</td>\n",
       "      <td>0</td>\n",
       "      <td>0</td>\n",
       "      <td>0</td>\n",
       "      <td>...</td>\n",
       "      <td>0</td>\n",
       "      <td>0</td>\n",
       "      <td>0</td>\n",
       "      <td>0</td>\n",
       "      <td>0</td>\n",
       "      <td>0</td>\n",
       "      <td>0</td>\n",
       "      <td>0</td>\n",
       "      <td>0</td>\n",
       "      <td>0</td>\n",
       "    </tr>\n",
       "    <tr>\n",
       "      <th>9942</th>\n",
       "      <td>42525</td>\n",
       "      <td>248</td>\n",
       "      <td>15</td>\n",
       "      <td>0</td>\n",
       "      <td>0</td>\n",
       "      <td>0</td>\n",
       "      <td>0</td>\n",
       "      <td>1</td>\n",
       "      <td>0</td>\n",
       "      <td>0</td>\n",
       "      <td>...</td>\n",
       "      <td>0</td>\n",
       "      <td>0</td>\n",
       "      <td>0</td>\n",
       "      <td>0</td>\n",
       "      <td>0</td>\n",
       "      <td>0</td>\n",
       "      <td>0</td>\n",
       "      <td>0</td>\n",
       "      <td>0</td>\n",
       "      <td>0</td>\n",
       "    </tr>\n",
       "    <tr>\n",
       "      <th>9943</th>\n",
       "      <td>1443</td>\n",
       "      <td>315</td>\n",
       "      <td>18</td>\n",
       "      <td>0</td>\n",
       "      <td>0</td>\n",
       "      <td>0</td>\n",
       "      <td>0</td>\n",
       "      <td>0</td>\n",
       "      <td>0</td>\n",
       "      <td>0</td>\n",
       "      <td>...</td>\n",
       "      <td>0</td>\n",
       "      <td>0</td>\n",
       "      <td>0</td>\n",
       "      <td>0</td>\n",
       "      <td>0</td>\n",
       "      <td>0</td>\n",
       "      <td>0</td>\n",
       "      <td>0</td>\n",
       "      <td>0</td>\n",
       "      <td>0</td>\n",
       "    </tr>\n",
       "  </tbody>\n",
       "</table>\n",
       "<p>9944 rows × 4503 columns</p>\n",
       "</div>"
      ],
      "text/plain": [
       "         id  char_count  ingredient_count  baking powder  eggs  \\\n",
       "0     18009          80                 6              0     1   \n",
       "1     28583         157                11              0     0   \n",
       "2     41580          82                 6              0     0   \n",
       "3     29752         336                21              0     0   \n",
       "4     35687         136                 8              0     0   \n",
       "...     ...         ...               ...            ...   ...   \n",
       "9939  30246         160                 9              0     0   \n",
       "9940  36028          64                 5              0     0   \n",
       "9941  22339         137                 8              0     0   \n",
       "9942  42525         248                15              0     0   \n",
       "9943   1443         315                18              0     0   \n",
       "\n",
       "      all-purpose flour  raisins  milk  white sugar  sugar  ...  fraise  \\\n",
       "0                     0        1     1            0      1  ...       0   \n",
       "1                     0        0     1            0      1  ...       0   \n",
       "2                     0        0     0            0      0  ...       0   \n",
       "3                     0        0     0            0      0  ...       0   \n",
       "4                     0        0     0            0      0  ...       0   \n",
       "...                 ...      ...   ...          ...    ...  ...     ...   \n",
       "9939                  0        0     0            0      1  ...       0   \n",
       "9940                  0        0     0            0      0  ...       0   \n",
       "9941                  0        0     0            0      0  ...       0   \n",
       "9942                  0        0     1            0      0  ...       0   \n",
       "9943                  0        0     0            0      0  ...       0   \n",
       "\n",
       "      beef heart  lambs liver  soft cheese  sliced mango  pork strips  \\\n",
       "0              0            0            0             0            0   \n",
       "1              0            0            0             0            0   \n",
       "2              0            0            0             0            0   \n",
       "3              0            0            0             0            0   \n",
       "4              0            0            0             0            0   \n",
       "...          ...          ...          ...           ...          ...   \n",
       "9939           0            0            0             0            0   \n",
       "9940           0            0            0             0            0   \n",
       "9941           0            0            0             0            0   \n",
       "9942           0            0            0             0            0   \n",
       "9943           0            0            0             0            0   \n",
       "\n",
       "      shark fillets  hash brown  porter  butter crackers  \n",
       "0                 0           0       0                0  \n",
       "1                 0           0       0                0  \n",
       "2                 0           0       0                0  \n",
       "3                 0           0       0                0  \n",
       "4                 0           0       0                0  \n",
       "...             ...         ...     ...              ...  \n",
       "9939              0           0       0                0  \n",
       "9940              0           0       0                0  \n",
       "9941              0           0       0                0  \n",
       "9942              0           0       0                0  \n",
       "9943              0           0       0                0  \n",
       "\n",
       "[9944 rows x 4503 columns]"
      ]
     },
     "execution_count": 59,
     "metadata": {},
     "output_type": "execute_result"
    }
   ],
   "source": [
    "test_df_full"
   ]
  },
  {
   "cell_type": "markdown",
   "id": "da4496e1-5597-496d-b08c-db9eca380125",
   "metadata": {},
   "source": [
    "## Export datasets"
   ]
  },
  {
   "cell_type": "code",
   "execution_count": 54,
   "id": "6a505e5d-e946-4fc5-9825-21593daedf46",
   "metadata": {},
   "outputs": [],
   "source": [
    "with open('../data/train_vec.pkl', 'wb') as pickle_out:\n",
    "    pickle.dump(train_df_full, pickle_out)"
   ]
  },
  {
   "cell_type": "code",
   "execution_count": 60,
   "id": "0a56bbc3-7612-4df8-9577-7f413e93584b",
   "metadata": {},
   "outputs": [],
   "source": [
    "with open('../data/test_vec.pkl', 'wb') as pickle_out:\n",
    "    pickle.dump(test_df_full, pickle_out)"
   ]
  },
  {
   "cell_type": "code",
   "execution_count": null,
   "id": "59b1e33a-1458-47f6-8414-a234fbe264f8",
   "metadata": {},
   "outputs": [],
   "source": []
  }
 ],
 "metadata": {
  "kernelspec": {
   "display_name": "Python [conda env:dsi]",
   "language": "python",
   "name": "conda-env-dsi-py"
  },
  "language_info": {
   "codemirror_mode": {
    "name": "ipython",
    "version": 3
   },
   "file_extension": ".py",
   "mimetype": "text/x-python",
   "name": "python",
   "nbconvert_exporter": "python",
   "pygments_lexer": "ipython3",
   "version": "3.9.7"
  }
 },
 "nbformat": 4,
 "nbformat_minor": 5
}
